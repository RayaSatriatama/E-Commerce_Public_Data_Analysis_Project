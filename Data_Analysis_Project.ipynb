{
 "cells": [
  {
   "cell_type": "markdown",
   "metadata": {
    "colab_type": "text",
    "id": "view-in-github"
   },
   "source": [
    "<a href=\"https://colab.research.google.com/github/RayaSatriatama/E-Commerce_Public_Data_Analysis_Project/blob/main/Data_Analysis_Project.ipynb\" target=\"_parent\"><img src=\"https://colab.research.google.com/assets/colab-badge.svg\" alt=\"Open In Colab\"/></a>"
   ]
  },
  {
   "cell_type": "markdown",
   "metadata": {
    "id": "H9wADwK78DCz"
   },
   "source": [
    "# Proyek Analisis Data: Brazilian E-Commerce Public Dataset\n",
    "- **Nama:** Mohammad Raya Satriatama\n",
    "- **Email:** rayasatriatama10@gmail.com\n",
    "- **ID Dicoding:** raya_satriatama"
   ]
  },
  {
   "cell_type": "markdown",
   "metadata": {
    "id": "eE0raob58DC0"
   },
   "source": [
    "## 1. Menentukan Pertanyaan Bisnis"
   ]
  },
  {
   "cell_type": "markdown",
   "metadata": {},
   "source": [
    "### 1.1 Tentang Dataset\n",
    "Dataset Publik E-Commerce Brasil oleh Olist\n",
    "Selamat datang! Ini adalah dataset publik e-commerce Brazil dari pesanan yang dibuat di Olist Store. Dataset ini memiliki informasi dari 100 ribu pesanan dari tahun 2016 hingga 2018 yang dibuat di beberapa pasar di Brazil. Fitur-fiturnya memungkinkan untuk melihat pesanan dari berbagai dimensi: mulai dari status pesanan, harga, pembayaran, dan kinerja pengiriman hingga lokasi pelanggan, atribut produk, dan akhirnya ulasan yang ditulis oleh pelanggan. Kami juga merilis set data geolokasi yang menghubungkan kode pos Brasil dengan koordinat lat/lng.\n",
    "\n",
    "Ini adalah data komersial yang nyata, telah dianonimkan, dan referensi ke perusahaan dan mitra dalam teks ulasan telah diganti dengan nama-nama rumah besar Game of Thrones.\n",
    "\n",
    "Dataset ini disediakan oleh Olist, toko serba ada terbesar di pasar Brazil. Olist menghubungkan bisnis kecil dari seluruh Brazil ke berbagai saluran tanpa kerumitan dan dengan satu kontrak. Para pedagang tersebut dapat menjual produk mereka melalui Olist Store dan mengirimkannya langsung ke pelanggan menggunakan mitra logistik Olist. Lihat lebih lanjut di situs web kami: www.olist.com\n",
    "\n",
    "Setelah pelanggan membeli produk dari Olist Store, penjual akan diberi tahu untuk memenuhi pesanan tersebut. Setelah pelanggan menerima produk, atau perkiraan tanggal pengiriman, pelanggan akan mendapatkan survei kepuasan melalui email di mana ia dapat memberikan catatan untuk pengalaman pembelian dan menuliskan beberapa komentar."
   ]
  },
  {
   "cell_type": "markdown",
   "metadata": {
    "id": "GmQeQ5YF8DC0"
   },
   "source": [
    "### 1.2 Pertanyaan Bisnis\n",
    "Berdasarkan hasil investigasi dan rumusan masalah maka dapat didefinisikan pertanyaan bisnis sebagai berikut:\n",
    "1. Berapa lama rata-rata waktu pengiriman produk kepada pelanggan di seluruh Brazil?\n",
    "2. Kapan terakhir kali pelanggan melakukan pembelian di Olist dalam satu tahun terakhir?\n",
    "3. Seberapa sering pelanggan membeli produk dalam tiga bulan terakhir?\n",
    "4. Berapa rata-rata pengeluaran pelanggan selama satu tahun terakhir?\n",
    "5. Di wilayah mana saja pelanggan Olist paling banyak berbelanja?\n",
    "6. Bagaimana pelanggan Olist dapat dikelompokkan berdasarkan jumlah pembelian dalam setahun?"
   ]
  },
  {
   "cell_type": "markdown",
   "metadata": {
    "id": "H-z4QGlO8DC1"
   },
   "source": [
    "## 2. Import Semua Packages/Library yang Digunakan"
   ]
  },
  {
   "cell_type": "code",
   "execution_count": 1,
   "metadata": {
    "id": "FVYwaObI8DC1"
   },
   "outputs": [],
   "source": [
    "import numpy as np\n",
    "import pandas as pd\n",
    "import matplotlib.pyplot as plt\n",
    "import seaborn as sns\n",
    "import babel\n",
    "import os\n",
    "from datetime import datetime, timedelta"
   ]
  },
  {
   "cell_type": "markdown",
   "metadata": {
    "id": "h_Sh51Xy8DC1"
   },
   "source": [
    "## 3. Data Wrangling"
   ]
  },
  {
   "cell_type": "markdown",
   "metadata": {
    "id": "sXU2GBYu8DC1"
   },
   "source": [
    "### 3.1 Gathering Data"
   ]
  },
  {
   "cell_type": "code",
   "execution_count": 2,
   "metadata": {},
   "outputs": [],
   "source": [
    "# Path dataset\n",
    "folder_path = \"data\"\n",
    "\n",
    "# Persiapan dictionary\n",
    "all_data = {}\n",
    "\n",
    "# Copy kedalam dictionary\n",
    "for file_name in os.listdir(folder_path):\n",
    "    file_path = os.path.join(folder_path, file_name)\n",
    "\n",
    "    if file_name.endswith('.csv'):\n",
    "        df = pd.read_csv(file_path)\n",
    "        \n",
    "        key_name = os.path.splitext(file_name)[0]\n",
    "        all_data[key_name] = df"
   ]
  },
  {
   "cell_type": "code",
   "execution_count": 3,
   "metadata": {},
   "outputs": [
    {
     "name": "stdout",
     "output_type": "stream",
     "text": [
      "dict_keys(['olist_customers_dataset', 'olist_geolocation_dataset', 'olist_orders_dataset', 'olist_order_items_dataset', 'olist_order_payments_dataset', 'olist_order_reviews_dataset', 'olist_products_dataset', 'olist_sellers_dataset', 'product_category_name_translation'])\n",
      "dict_values([                            customer_id                customer_unique_id  \\\n",
      "0      06b8999e2fba1a1fbc88172c00ba8bc7  861eff4711a542e4b93843c6dd7febb0   \n",
      "1      18955e83d337fd6b2def6b18a428ac77  290c77bc529b7ac935b93aa66c333dc3   \n",
      "2      4e7b3e00288586ebd08712fdd0374a03  060e732b5b29e8181a18229c7b0b2b5e   \n",
      "3      b2b6027bc5c5109e529d4dc6358b12c3  259dac757896d24d7702b9acbbff3f3c   \n",
      "4      4f2d8ab171c80ec8364f7c12e35b23ad  345ecd01c38d18a9036ed96c73b8d066   \n",
      "...                                 ...                               ...   \n",
      "99436  17ddf5dd5d51696bb3d7c6291687be6f  1a29b476fee25c95fbafc67c5ac95cf8   \n",
      "99437  e7b71a9017aa05c9a7fd292d714858e8  d52a67c98be1cf6a5c84435bd38d095d   \n",
      "99438  5e28dfe12db7fb50a4b2f691faecea5e  e9f50caf99f032f0bf3c55141f019d99   \n",
      "99439  56b18e2166679b8a959d72dd06da27f9  73c2643a0a458b49f58cea58833b192e   \n",
      "99440  274fa6071e5e17fe303b9748641082c8  84732c5050c01db9b23e19ba39899398   \n",
      "\n",
      "       customer_zip_code_prefix          customer_city customer_state  \n",
      "0                         14409                 franca             SP  \n",
      "1                          9790  sao bernardo do campo             SP  \n",
      "2                          1151              sao paulo             SP  \n",
      "3                          8775        mogi das cruzes             SP  \n",
      "4                         13056               campinas             SP  \n",
      "...                         ...                    ...            ...  \n",
      "99436                      3937              sao paulo             SP  \n",
      "99437                      6764        taboao da serra             SP  \n",
      "99438                     60115              fortaleza             CE  \n",
      "99439                     92120                 canoas             RS  \n",
      "99440                      6703                  cotia             SP  \n",
      "\n",
      "[99441 rows x 5 columns],          geolocation_zip_code_prefix  geolocation_lat  geolocation_lng  \\\n",
      "0                               1037       -23.545621       -46.639292   \n",
      "1                               1046       -23.546081       -46.644820   \n",
      "2                               1046       -23.546129       -46.642951   \n",
      "3                               1041       -23.544392       -46.639499   \n",
      "4                               1035       -23.541578       -46.641607   \n",
      "...                              ...              ...              ...   \n",
      "1000158                        99950       -28.068639       -52.010705   \n",
      "1000159                        99900       -27.877125       -52.224882   \n",
      "1000160                        99950       -28.071855       -52.014716   \n",
      "1000161                        99980       -28.388932       -51.846871   \n",
      "1000162                        99950       -28.070104       -52.018658   \n",
      "\n",
      "        geolocation_city geolocation_state  \n",
      "0              sao paulo                SP  \n",
      "1              sao paulo                SP  \n",
      "2              sao paulo                SP  \n",
      "3              sao paulo                SP  \n",
      "4              sao paulo                SP  \n",
      "...                  ...               ...  \n",
      "1000158         tapejara                RS  \n",
      "1000159   getulio vargas                RS  \n",
      "1000160         tapejara                RS  \n",
      "1000161  david canabarro                RS  \n",
      "1000162         tapejara                RS  \n",
      "\n",
      "[1000163 rows x 5 columns],                                order_id                       customer_id  \\\n",
      "0      e481f51cbdc54678b7cc49136f2d6af7  9ef432eb6251297304e76186b10a928d   \n",
      "1      53cdb2fc8bc7dce0b6741e2150273451  b0830fb4747a6c6d20dea0b8c802d7ef   \n",
      "2      47770eb9100c2d0c44946d9cf07ec65d  41ce2a54c0b03bf3443c3d931a367089   \n",
      "3      949d5b44dbf5de918fe9c16f97b45f8a  f88197465ea7920adcdbec7375364d82   \n",
      "4      ad21c59c0840e6cb83a9ceb5573f8159  8ab97904e6daea8866dbdbc4fb7aad2c   \n",
      "...                                 ...                               ...   \n",
      "99436  9c5dedf39a927c1b2549525ed64a053c  39bd1228ee8140590ac3aca26f2dfe00   \n",
      "99437  63943bddc261676b46f01ca7ac2f7bd8  1fca14ff2861355f6e5f14306ff977a7   \n",
      "99438  83c1379a015df1e13d02aae0204711ab  1aa71eb042121263aafbe80c1b562c9c   \n",
      "99439  11c177c8e97725db2631073c19f07b62  b331b74b18dc79bcdf6532d51e1637c1   \n",
      "99440  66dea50a8b16d9b4dee7af250b4be1a5  edb027a75a1449115f6b43211ae02a24   \n",
      "\n",
      "      order_status order_purchase_timestamp    order_approved_at  \\\n",
      "0        delivered      2017-10-02 10:56:33  2017-10-02 11:07:15   \n",
      "1        delivered      2018-07-24 20:41:37  2018-07-26 03:24:27   \n",
      "2        delivered      2018-08-08 08:38:49  2018-08-08 08:55:23   \n",
      "3        delivered      2017-11-18 19:28:06  2017-11-18 19:45:59   \n",
      "4        delivered      2018-02-13 21:18:39  2018-02-13 22:20:29   \n",
      "...            ...                      ...                  ...   \n",
      "99436    delivered      2017-03-09 09:54:05  2017-03-09 09:54:05   \n",
      "99437    delivered      2018-02-06 12:58:58  2018-02-06 13:10:37   \n",
      "99438    delivered      2017-08-27 14:46:43  2017-08-27 15:04:16   \n",
      "99439    delivered      2018-01-08 21:28:27  2018-01-08 21:36:21   \n",
      "99440    delivered      2018-03-08 20:57:30  2018-03-09 11:20:28   \n",
      "\n",
      "      order_delivered_carrier_date order_delivered_customer_date  \\\n",
      "0              2017-10-04 19:55:00           2017-10-10 21:25:13   \n",
      "1              2018-07-26 14:31:00           2018-08-07 15:27:45   \n",
      "2              2018-08-08 13:50:00           2018-08-17 18:06:29   \n",
      "3              2017-11-22 13:39:59           2017-12-02 00:28:42   \n",
      "4              2018-02-14 19:46:34           2018-02-16 18:17:02   \n",
      "...                            ...                           ...   \n",
      "99436          2017-03-10 11:18:03           2017-03-17 15:08:01   \n",
      "99437          2018-02-07 23:22:42           2018-02-28 17:37:56   \n",
      "99438          2017-08-28 20:52:26           2017-09-21 11:24:17   \n",
      "99439          2018-01-12 15:35:03           2018-01-25 23:32:54   \n",
      "99440          2018-03-09 22:11:59           2018-03-16 13:08:30   \n",
      "\n",
      "      order_estimated_delivery_date  \n",
      "0               2017-10-18 00:00:00  \n",
      "1               2018-08-13 00:00:00  \n",
      "2               2018-09-04 00:00:00  \n",
      "3               2017-12-15 00:00:00  \n",
      "4               2018-02-26 00:00:00  \n",
      "...                             ...  \n",
      "99436           2017-03-28 00:00:00  \n",
      "99437           2018-03-02 00:00:00  \n",
      "99438           2017-09-27 00:00:00  \n",
      "99439           2018-02-15 00:00:00  \n",
      "99440           2018-04-03 00:00:00  \n",
      "\n",
      "[99441 rows x 8 columns],                                 order_id  order_item_id  \\\n",
      "0       00010242fe8c5a6d1ba2dd792cb16214              1   \n",
      "1       00018f77f2f0320c557190d7a144bdd3              1   \n",
      "2       000229ec398224ef6ca0657da4fc703e              1   \n",
      "3       00024acbcdf0a6daa1e931b038114c75              1   \n",
      "4       00042b26cf59d7ce69dfabb4e55b4fd9              1   \n",
      "...                                  ...            ...   \n",
      "112645  fffc94f6ce00a00581880bf54a75a037              1   \n",
      "112646  fffcd46ef2263f404302a634eb57f7eb              1   \n",
      "112647  fffce4705a9662cd70adb13d4a31832d              1   \n",
      "112648  fffe18544ffabc95dfada21779c9644f              1   \n",
      "112649  fffe41c64501cc87c801fd61db3f6244              1   \n",
      "\n",
      "                              product_id                         seller_id  \\\n",
      "0       4244733e06e7ecb4970a6e2683c13e61  48436dade18ac8b2bce089ec2a041202   \n",
      "1       e5f2d52b802189ee658865ca93d83a8f  dd7ddc04e1b6c2c614352b383efe2d36   \n",
      "2       c777355d18b72b67abbeef9df44fd0fd  5b51032eddd242adc84c38acab88f23d   \n",
      "3       7634da152a4610f1595efa32f14722fc  9d7a1d34a5052409006425275ba1c2b4   \n",
      "4       ac6c3623068f30de03045865e4e10089  df560393f3a51e74553ab94004ba5c87   \n",
      "...                                  ...                               ...   \n",
      "112645  4aa6014eceb682077f9dc4bffebc05b0  b8bc237ba3788b23da09c0f1f3a3288c   \n",
      "112646  32e07fd915822b0765e448c4dd74c828  f3c38ab652836d21de61fb8314b69182   \n",
      "112647  72a30483855e2eafc67aee5dc2560482  c3cfdc648177fdbbbb35635a37472c53   \n",
      "112648  9c422a519119dcad7575db5af1ba540e  2b3e4a2a3ea8e01938cabda2a3e5cc79   \n",
      "112649  350688d9dc1e75ff97be326363655e01  f7ccf836d21b2fb1de37564105216cc1   \n",
      "\n",
      "        shipping_limit_date   price  freight_value  \n",
      "0       2017-09-19 09:45:35   58.90          13.29  \n",
      "1       2017-05-03 11:05:13  239.90          19.93  \n",
      "2       2018-01-18 14:48:30  199.00          17.87  \n",
      "3       2018-08-15 10:10:18   12.99          12.79  \n",
      "4       2017-02-13 13:57:51  199.90          18.14  \n",
      "...                     ...     ...            ...  \n",
      "112645  2018-05-02 04:11:01  299.99          43.41  \n",
      "112646  2018-07-20 04:31:48  350.00          36.53  \n",
      "112647  2017-10-30 17:14:25   99.90          16.95  \n",
      "112648  2017-08-21 00:04:32   55.99           8.72  \n",
      "112649  2018-06-12 17:10:13   43.00          12.79  \n",
      "\n",
      "[112650 rows x 7 columns],                                 order_id  payment_sequential payment_type  \\\n",
      "0       b81ef226f3fe1789b1e8b2acac839d17                   1  credit_card   \n",
      "1       a9810da82917af2d9aefd1278f1dcfa0                   1  credit_card   \n",
      "2       25e8ea4e93396b6fa0d3dd708e76c1bd                   1  credit_card   \n",
      "3       ba78997921bbcdc1373bb41e913ab953                   1  credit_card   \n",
      "4       42fdf880ba16b47b59251dd489d4441a                   1  credit_card   \n",
      "...                                  ...                 ...          ...   \n",
      "103881  0406037ad97740d563a178ecc7a2075c                   1       boleto   \n",
      "103882  7b905861d7c825891d6347454ea7863f                   1  credit_card   \n",
      "103883  32609bbb3dd69b3c066a6860554a77bf                   1  credit_card   \n",
      "103884  b8b61059626efa996a60be9bb9320e10                   1  credit_card   \n",
      "103885  28bbae6599b09d39ca406b747b6632b1                   1       boleto   \n",
      "\n",
      "        payment_installments  payment_value  \n",
      "0                          8          99.33  \n",
      "1                          1          24.39  \n",
      "2                          1          65.71  \n",
      "3                          8         107.78  \n",
      "4                          2         128.45  \n",
      "...                      ...            ...  \n",
      "103881                     1         363.31  \n",
      "103882                     2          96.80  \n",
      "103883                     1          47.77  \n",
      "103884                     5         369.54  \n",
      "103885                     1         191.58  \n",
      "\n",
      "[103886 rows x 5 columns],                               review_id                          order_id  \\\n",
      "0      7bc2406110b926393aa56f80a40eba40  73fc7af87114b39712e6da79b0a377eb   \n",
      "1      80e641a11e56f04c1ad469d5645fdfde  a548910a1c6147796b98fdf73dbeba33   \n",
      "2      228ce5500dc1d8e020d8d1322874b6f0  f9e4b658b201a9f2ecdecbb34bed034b   \n",
      "3      e64fb393e7b32834bb789ff8bb30750e  658677c97b385a9be170737859d3511b   \n",
      "4      f7c4243c7fe1938f181bec41a392bdeb  8e6bfb81e283fa7e4f11123a3fb894f1   \n",
      "...                                 ...                               ...   \n",
      "99219  574ed12dd733e5fa530cfd4bbf39d7c9  2a8c23fee101d4d5662fa670396eb8da   \n",
      "99220  f3897127253a9592a73be9bdfdf4ed7a  22ec9f0669f784db00fa86d035cf8602   \n",
      "99221  b3de70c89b1510c4cd3d0649fd302472  55d4004744368f5571d1f590031933e4   \n",
      "99222  1adeb9d84d72fe4e337617733eb85149  7725825d039fc1f0ceb7635e3f7d9206   \n",
      "99223  efe49f1d6f951dd88b51e6ccd4cc548f  90531360ecb1eec2a1fbb265a0db0508   \n",
      "\n",
      "       review_score review_comment_title  \\\n",
      "0                 4                  NaN   \n",
      "1                 5                  NaN   \n",
      "2                 5                  NaN   \n",
      "3                 5                  NaN   \n",
      "4                 5                  NaN   \n",
      "...             ...                  ...   \n",
      "99219             5                  NaN   \n",
      "99220             5                  NaN   \n",
      "99221             5                  NaN   \n",
      "99222             4                  NaN   \n",
      "99223             1                  NaN   \n",
      "\n",
      "                                  review_comment_message review_creation_date  \\\n",
      "0                                                    NaN  2018-01-18 00:00:00   \n",
      "1                                                    NaN  2018-03-10 00:00:00   \n",
      "2                                                    NaN  2018-02-17 00:00:00   \n",
      "3                  Recebi bem antes do prazo estipulado.  2017-04-21 00:00:00   \n",
      "4      Parabéns lojas lannister adorei comprar pela I...  2018-03-01 00:00:00   \n",
      "...                                                  ...                  ...   \n",
      "99219                                                NaN  2018-07-07 00:00:00   \n",
      "99220                                                NaN  2017-12-09 00:00:00   \n",
      "99221  Excelente mochila, entrega super rápida. Super...  2018-03-22 00:00:00   \n",
      "99222                                                NaN  2018-07-01 00:00:00   \n",
      "99223  meu produto chegou e ja tenho que devolver, po...  2017-07-03 00:00:00   \n",
      "\n",
      "      review_answer_timestamp  \n",
      "0         2018-01-18 21:46:59  \n",
      "1         2018-03-11 03:05:13  \n",
      "2         2018-02-18 14:36:24  \n",
      "3         2017-04-21 22:02:06  \n",
      "4         2018-03-02 10:26:53  \n",
      "...                       ...  \n",
      "99219     2018-07-14 17:18:30  \n",
      "99220     2017-12-11 20:06:42  \n",
      "99221     2018-03-23 09:10:43  \n",
      "99222     2018-07-02 12:59:13  \n",
      "99223     2017-07-03 21:01:49  \n",
      "\n",
      "[99224 rows x 7 columns],                              product_id              product_category_name  \\\n",
      "0      1e9e8ef04dbcff4541ed26657ea517e5                         perfumaria   \n",
      "1      3aa071139cb16b67ca9e5dea641aaa2f                              artes   \n",
      "2      96bd76ec8810374ed1b65e291975717f                      esporte_lazer   \n",
      "3      cef67bcfe19066a932b7673e239eb23d                              bebes   \n",
      "4      9dc1a7de274444849c219cff195d0b71              utilidades_domesticas   \n",
      "...                                 ...                                ...   \n",
      "32946  a0b7d5a992ccda646f2d34e418fff5a0                   moveis_decoracao   \n",
      "32947  bf4538d88321d0fd4412a93c974510e6  construcao_ferramentas_iluminacao   \n",
      "32948  9a7c6041fa9592d9d9ef6cfe62a71f8c                    cama_mesa_banho   \n",
      "32949  83808703fc0706a22e264b9d75f04a2e             informatica_acessorios   \n",
      "32950  106392145fca363410d287a815be6de4                    cama_mesa_banho   \n",
      "\n",
      "       product_name_lenght  product_description_lenght  product_photos_qty  \\\n",
      "0                     40.0                       287.0                 1.0   \n",
      "1                     44.0                       276.0                 1.0   \n",
      "2                     46.0                       250.0                 1.0   \n",
      "3                     27.0                       261.0                 1.0   \n",
      "4                     37.0                       402.0                 4.0   \n",
      "...                    ...                         ...                 ...   \n",
      "32946                 45.0                        67.0                 2.0   \n",
      "32947                 41.0                       971.0                 1.0   \n",
      "32948                 50.0                       799.0                 1.0   \n",
      "32949                 60.0                       156.0                 2.0   \n",
      "32950                 58.0                       309.0                 1.0   \n",
      "\n",
      "       product_weight_g  product_length_cm  product_height_cm  \\\n",
      "0                 225.0               16.0               10.0   \n",
      "1                1000.0               30.0               18.0   \n",
      "2                 154.0               18.0                9.0   \n",
      "3                 371.0               26.0                4.0   \n",
      "4                 625.0               20.0               17.0   \n",
      "...                 ...                ...                ...   \n",
      "32946           12300.0               40.0               40.0   \n",
      "32947            1700.0               16.0               19.0   \n",
      "32948            1400.0               27.0                7.0   \n",
      "32949             700.0               31.0               13.0   \n",
      "32950            2083.0               12.0                2.0   \n",
      "\n",
      "       product_width_cm  \n",
      "0                  14.0  \n",
      "1                  20.0  \n",
      "2                  15.0  \n",
      "3                  26.0  \n",
      "4                  13.0  \n",
      "...                 ...  \n",
      "32946              40.0  \n",
      "32947              16.0  \n",
      "32948              27.0  \n",
      "32949              20.0  \n",
      "32950               7.0  \n",
      "\n",
      "[32951 rows x 9 columns],                              seller_id  seller_zip_code_prefix  \\\n",
      "0     3442f8959a84dea7ee197c632cb2df15                   13023   \n",
      "1     d1b65fc7debc3361ea86b5f14c68d2e2                   13844   \n",
      "2     ce3ad9de960102d0677a81f5d0bb7b2d                   20031   \n",
      "3     c0f3eea2e14555b6faeea3dd58c1b1c3                    4195   \n",
      "4     51a04a8a6bdcb23deccc82b0b80742cf                   12914   \n",
      "...                                ...                     ...   \n",
      "3090  98dddbc4601dd4443ca174359b237166                   87111   \n",
      "3091  f8201cab383e484733266d1906e2fdfa                   88137   \n",
      "3092  74871d19219c7d518d0090283e03c137                    4650   \n",
      "3093  e603cf3fec55f8697c9059638d6c8eb5                   96080   \n",
      "3094  9e25199f6ef7e7c347120ff175652c3b                   12051   \n",
      "\n",
      "            seller_city seller_state  \n",
      "0              campinas           SP  \n",
      "1            mogi guacu           SP  \n",
      "2        rio de janeiro           RJ  \n",
      "3             sao paulo           SP  \n",
      "4     braganca paulista           SP  \n",
      "...                 ...          ...  \n",
      "3090            sarandi           PR  \n",
      "3091            palhoca           SC  \n",
      "3092          sao paulo           SP  \n",
      "3093            pelotas           RS  \n",
      "3094            taubate           SP  \n",
      "\n",
      "[3095 rows x 4 columns],             product_category_name product_category_name_english\n",
      "0                    beleza_saude                 health_beauty\n",
      "1          informatica_acessorios         computers_accessories\n",
      "2                      automotivo                          auto\n",
      "3                 cama_mesa_banho                bed_bath_table\n",
      "4                moveis_decoracao               furniture_decor\n",
      "..                            ...                           ...\n",
      "66                         flores                       flowers\n",
      "67             artes_e_artesanato         arts_and_craftmanship\n",
      "68                fraldas_higiene           diapers_and_hygiene\n",
      "69  fashion_roupa_infanto_juvenil     fashion_childrens_clothes\n",
      "70             seguros_e_servicos         security_and_services\n",
      "\n",
      "[71 rows x 2 columns]])\n"
     ]
    }
   ],
   "source": [
    "# Print nama data dan isi data\n",
    "print(all_data.keys())\n",
    "print(all_data.values())"
   ]
  },
  {
   "cell_type": "code",
   "execution_count": 4,
   "metadata": {
    "id": "zjCBk1BI8DC1"
   },
   "outputs": [
    {
     "name": "stdout",
     "output_type": "stream",
     "text": [
      "\u001b[1mDataset: olist_customers_dataset\u001b[0m\n",
      "                        customer_id                customer_unique_id  \\\n",
      "0  06b8999e2fba1a1fbc88172c00ba8bc7  861eff4711a542e4b93843c6dd7febb0   \n",
      "1  18955e83d337fd6b2def6b18a428ac77  290c77bc529b7ac935b93aa66c333dc3   \n",
      "2  4e7b3e00288586ebd08712fdd0374a03  060e732b5b29e8181a18229c7b0b2b5e   \n",
      "3  b2b6027bc5c5109e529d4dc6358b12c3  259dac757896d24d7702b9acbbff3f3c   \n",
      "4  4f2d8ab171c80ec8364f7c12e35b23ad  345ecd01c38d18a9036ed96c73b8d066   \n",
      "\n",
      "   customer_zip_code_prefix          customer_city customer_state  \n",
      "0                     14409                 franca             SP  \n",
      "1                      9790  sao bernardo do campo             SP  \n",
      "2                      1151              sao paulo             SP  \n",
      "3                      8775        mogi das cruzes             SP  \n",
      "4                     13056               campinas             SP  \n",
      "\n",
      "\u001b[1mDataset: olist_geolocation_dataset\u001b[0m\n",
      "   geolocation_zip_code_prefix  geolocation_lat  geolocation_lng  \\\n",
      "0                         1037       -23.545621       -46.639292   \n",
      "1                         1046       -23.546081       -46.644820   \n",
      "2                         1046       -23.546129       -46.642951   \n",
      "3                         1041       -23.544392       -46.639499   \n",
      "4                         1035       -23.541578       -46.641607   \n",
      "\n",
      "  geolocation_city geolocation_state  \n",
      "0        sao paulo                SP  \n",
      "1        sao paulo                SP  \n",
      "2        sao paulo                SP  \n",
      "3        sao paulo                SP  \n",
      "4        sao paulo                SP  \n",
      "\n",
      "\u001b[1mDataset: olist_orders_dataset\u001b[0m\n",
      "                           order_id                       customer_id  \\\n",
      "0  e481f51cbdc54678b7cc49136f2d6af7  9ef432eb6251297304e76186b10a928d   \n",
      "1  53cdb2fc8bc7dce0b6741e2150273451  b0830fb4747a6c6d20dea0b8c802d7ef   \n",
      "2  47770eb9100c2d0c44946d9cf07ec65d  41ce2a54c0b03bf3443c3d931a367089   \n",
      "3  949d5b44dbf5de918fe9c16f97b45f8a  f88197465ea7920adcdbec7375364d82   \n",
      "4  ad21c59c0840e6cb83a9ceb5573f8159  8ab97904e6daea8866dbdbc4fb7aad2c   \n",
      "\n",
      "  order_status order_purchase_timestamp    order_approved_at  \\\n",
      "0    delivered      2017-10-02 10:56:33  2017-10-02 11:07:15   \n",
      "1    delivered      2018-07-24 20:41:37  2018-07-26 03:24:27   \n",
      "2    delivered      2018-08-08 08:38:49  2018-08-08 08:55:23   \n",
      "3    delivered      2017-11-18 19:28:06  2017-11-18 19:45:59   \n",
      "4    delivered      2018-02-13 21:18:39  2018-02-13 22:20:29   \n",
      "\n",
      "  order_delivered_carrier_date order_delivered_customer_date  \\\n",
      "0          2017-10-04 19:55:00           2017-10-10 21:25:13   \n",
      "1          2018-07-26 14:31:00           2018-08-07 15:27:45   \n",
      "2          2018-08-08 13:50:00           2018-08-17 18:06:29   \n",
      "3          2017-11-22 13:39:59           2017-12-02 00:28:42   \n",
      "4          2018-02-14 19:46:34           2018-02-16 18:17:02   \n",
      "\n",
      "  order_estimated_delivery_date  \n",
      "0           2017-10-18 00:00:00  \n",
      "1           2018-08-13 00:00:00  \n",
      "2           2018-09-04 00:00:00  \n",
      "3           2017-12-15 00:00:00  \n",
      "4           2018-02-26 00:00:00  \n",
      "\n",
      "\u001b[1mDataset: olist_order_items_dataset\u001b[0m\n",
      "                           order_id  order_item_id  \\\n",
      "0  00010242fe8c5a6d1ba2dd792cb16214              1   \n",
      "1  00018f77f2f0320c557190d7a144bdd3              1   \n",
      "2  000229ec398224ef6ca0657da4fc703e              1   \n",
      "3  00024acbcdf0a6daa1e931b038114c75              1   \n",
      "4  00042b26cf59d7ce69dfabb4e55b4fd9              1   \n",
      "\n",
      "                         product_id                         seller_id  \\\n",
      "0  4244733e06e7ecb4970a6e2683c13e61  48436dade18ac8b2bce089ec2a041202   \n",
      "1  e5f2d52b802189ee658865ca93d83a8f  dd7ddc04e1b6c2c614352b383efe2d36   \n",
      "2  c777355d18b72b67abbeef9df44fd0fd  5b51032eddd242adc84c38acab88f23d   \n",
      "3  7634da152a4610f1595efa32f14722fc  9d7a1d34a5052409006425275ba1c2b4   \n",
      "4  ac6c3623068f30de03045865e4e10089  df560393f3a51e74553ab94004ba5c87   \n",
      "\n",
      "   shipping_limit_date   price  freight_value  \n",
      "0  2017-09-19 09:45:35   58.90          13.29  \n",
      "1  2017-05-03 11:05:13  239.90          19.93  \n",
      "2  2018-01-18 14:48:30  199.00          17.87  \n",
      "3  2018-08-15 10:10:18   12.99          12.79  \n",
      "4  2017-02-13 13:57:51  199.90          18.14  \n",
      "\n",
      "\u001b[1mDataset: olist_order_payments_dataset\u001b[0m\n",
      "                           order_id  payment_sequential payment_type  \\\n",
      "0  b81ef226f3fe1789b1e8b2acac839d17                   1  credit_card   \n",
      "1  a9810da82917af2d9aefd1278f1dcfa0                   1  credit_card   \n",
      "2  25e8ea4e93396b6fa0d3dd708e76c1bd                   1  credit_card   \n",
      "3  ba78997921bbcdc1373bb41e913ab953                   1  credit_card   \n",
      "4  42fdf880ba16b47b59251dd489d4441a                   1  credit_card   \n",
      "\n",
      "   payment_installments  payment_value  \n",
      "0                     8          99.33  \n",
      "1                     1          24.39  \n",
      "2                     1          65.71  \n",
      "3                     8         107.78  \n",
      "4                     2         128.45  \n",
      "\n",
      "\u001b[1mDataset: olist_order_reviews_dataset\u001b[0m\n",
      "                          review_id                          order_id  \\\n",
      "0  7bc2406110b926393aa56f80a40eba40  73fc7af87114b39712e6da79b0a377eb   \n",
      "1  80e641a11e56f04c1ad469d5645fdfde  a548910a1c6147796b98fdf73dbeba33   \n",
      "2  228ce5500dc1d8e020d8d1322874b6f0  f9e4b658b201a9f2ecdecbb34bed034b   \n",
      "3  e64fb393e7b32834bb789ff8bb30750e  658677c97b385a9be170737859d3511b   \n",
      "4  f7c4243c7fe1938f181bec41a392bdeb  8e6bfb81e283fa7e4f11123a3fb894f1   \n",
      "\n",
      "   review_score review_comment_title  \\\n",
      "0             4                  NaN   \n",
      "1             5                  NaN   \n",
      "2             5                  NaN   \n",
      "3             5                  NaN   \n",
      "4             5                  NaN   \n",
      "\n",
      "                              review_comment_message review_creation_date  \\\n",
      "0                                                NaN  2018-01-18 00:00:00   \n",
      "1                                                NaN  2018-03-10 00:00:00   \n",
      "2                                                NaN  2018-02-17 00:00:00   \n",
      "3              Recebi bem antes do prazo estipulado.  2017-04-21 00:00:00   \n",
      "4  Parabéns lojas lannister adorei comprar pela I...  2018-03-01 00:00:00   \n",
      "\n",
      "  review_answer_timestamp  \n",
      "0     2018-01-18 21:46:59  \n",
      "1     2018-03-11 03:05:13  \n",
      "2     2018-02-18 14:36:24  \n",
      "3     2017-04-21 22:02:06  \n",
      "4     2018-03-02 10:26:53  \n",
      "\n",
      "\u001b[1mDataset: olist_products_dataset\u001b[0m\n",
      "                         product_id  product_category_name  \\\n",
      "0  1e9e8ef04dbcff4541ed26657ea517e5             perfumaria   \n",
      "1  3aa071139cb16b67ca9e5dea641aaa2f                  artes   \n",
      "2  96bd76ec8810374ed1b65e291975717f          esporte_lazer   \n",
      "3  cef67bcfe19066a932b7673e239eb23d                  bebes   \n",
      "4  9dc1a7de274444849c219cff195d0b71  utilidades_domesticas   \n",
      "\n",
      "   product_name_lenght  product_description_lenght  product_photos_qty  \\\n",
      "0                 40.0                       287.0                 1.0   \n",
      "1                 44.0                       276.0                 1.0   \n",
      "2                 46.0                       250.0                 1.0   \n",
      "3                 27.0                       261.0                 1.0   \n",
      "4                 37.0                       402.0                 4.0   \n",
      "\n",
      "   product_weight_g  product_length_cm  product_height_cm  product_width_cm  \n",
      "0             225.0               16.0               10.0              14.0  \n",
      "1            1000.0               30.0               18.0              20.0  \n",
      "2             154.0               18.0                9.0              15.0  \n",
      "3             371.0               26.0                4.0              26.0  \n",
      "4             625.0               20.0               17.0              13.0  \n",
      "\n",
      "\u001b[1mDataset: olist_sellers_dataset\u001b[0m\n",
      "                          seller_id  seller_zip_code_prefix  \\\n",
      "0  3442f8959a84dea7ee197c632cb2df15                   13023   \n",
      "1  d1b65fc7debc3361ea86b5f14c68d2e2                   13844   \n",
      "2  ce3ad9de960102d0677a81f5d0bb7b2d                   20031   \n",
      "3  c0f3eea2e14555b6faeea3dd58c1b1c3                    4195   \n",
      "4  51a04a8a6bdcb23deccc82b0b80742cf                   12914   \n",
      "\n",
      "         seller_city seller_state  \n",
      "0           campinas           SP  \n",
      "1         mogi guacu           SP  \n",
      "2     rio de janeiro           RJ  \n",
      "3          sao paulo           SP  \n",
      "4  braganca paulista           SP  \n",
      "\n",
      "\u001b[1mDataset: product_category_name_translation\u001b[0m\n",
      "    product_category_name product_category_name_english\n",
      "0            beleza_saude                 health_beauty\n",
      "1  informatica_acessorios         computers_accessories\n",
      "2              automotivo                          auto\n",
      "3         cama_mesa_banho                bed_bath_table\n",
      "4        moveis_decoracao               furniture_decor\n",
      "\n"
     ]
    }
   ],
   "source": [
    "# print DataFrames\n",
    "for key, df in all_data.items():\n",
    "    print(f\"\\033[1mDataset: {key}\\033[0m\")\n",
    "    print(df.head())\n",
    "    print()"
   ]
  },
  {
   "cell_type": "markdown",
   "metadata": {
    "id": "MMi6xGaDkbCi"
   },
   "source": [
    "**Insight:**\n",
    "- customer_zip_code_prefix dapat dihubungkan dengan data geolocation untuk memahami di mana pelanggan berada, membantu dalam analisis wilayah pemasaran.\n",
    "- customer_city dan customer_state memungkinkan kita melihat kota dan negara bagian mana yang memiliki pelanggan paling banyak, penting untuk target pemasaran spesifik."
   ]
  },
  {
   "cell_type": "markdown",
   "metadata": {},
   "source": [
    "**Insight:**\n",
    "\n",
    "1. **Customers**\n",
    "- **customer_zip_code_prefix** dapat dihubungkan dengan data geolocation untuk memahami di mana pelanggan berada, membantu dalam analisis wilayah pemasaran.\n",
    "- **customer_city** dan **customer_state** memungkinkan kita melihat kota dan negara bagian mana yang memiliki pelanggan paling banyak, penting untuk target pemasaran spesifik.\n",
    "\n",
    "2. **Geolocation**\n",
    "- **geolocation_zip_code_prefix** menyediakan informasi kode pos untuk setiap pelanggan atau penjual, yang dapat dipetakan secara geografis.\n",
    "- **geolocation_city** menunjukkan lokasi dengan konsentrasi pelanggan tinggi, membantu kita memahami lokasi yang berpotensi meningkatkan penjualan.\n",
    "\n",
    "3. **Order Items**\n",
    "- Data **order_id** dan **order_item_id** mengindikasikan bahwa satu pesanan dapat memiliki lebih dari satu item, memberikan wawasan tentang preferensi pelanggan untuk pembelian dalam jumlah banyak.\n",
    "- **price** dan **freight_value** digunakan untuk menghitung total pengeluaran pelanggan, penting dalam analisis Monetary dari RFM.\n",
    "\n",
    "4. **Order Payments**\n",
    "- **payment_type** menunjukkan preferensi metode pembayaran, apakah pelanggan lebih sering menggunakan kartu kredit, debit, atau metode lain.\n",
    "- **payment_installments** dan **payment_value** membantu memahami kecenderungan pelanggan dalam menggunakan cicilan dan seberapa besar total transaksi mereka.\n",
    "\n",
    "5. **Order Reviews**\n",
    "- **review_score** mencerminkan kepuasan pelanggan terhadap produk atau pengalaman layanan, sehingga dapat dihubungkan dengan performa penjual atau kualitas produk.\n",
    "- **review_comment_message** memberikan konteks mengenai ulasan pelanggan yang dapat digunakan dalam analisis sentimen untuk mengidentifikasi area perbaikan.\n",
    "\n",
    "6. **Orders**\n",
    "- **order_status** membantu kita memisahkan pesanan yang berhasil, dibatalkan, atau masih dalam proses, yang penting dalam memantau keberhasilan pengiriman.\n",
    "- **order_purchase_timestamp** dan **order_delivered_customer_date** memungkinkan kita menghitung durasi waktu pengiriman, memberikan wawasan tentang efisiensi logistik dan performa pengiriman.\n",
    "\n",
    "7. **Products**\n",
    "- **product_category_name** memberikan kategori produk yang bisa digunakan untuk mengidentifikasi kategori terpopuler di pasar.\n",
    "- Informasi mengenai **product_weight_g** dan dimensi produk dapat membantu menganalisis pengaruh berat atau ukuran terhadap biaya pengiriman dan tingkat kepuasan pelanggan.\n",
    "\n",
    "8. **Sellers**\n",
    "- **seller_zip_code_prefix** memungkinkan kita mengidentifikasi distribusi geografis penjual, membantu dalam menentukan wilayah yang mendominasi penjualan.\n",
    "- **seller_city** dapat memberikan wawasan lebih lanjut tentang di mana penjual aktif berada, yang membantu untuk melihat jika ada pola tertentu terkait performa penjualan berdasarkan lokasi penjual.\n",
    "\n",
    "9. **Product Category Translation**\n",
    "- **product_category_name_english** memberikan terjemahan nama kategori produk ke bahasa Inggris, membuat analisis lebih mudah untuk pengguna internasional.\n",
    "- Menghubungkan kategori produk ini dengan data penjualan akan membantu melihat produk mana yang paling menarik bagi pelanggan."
   ]
  },
  {
   "cell_type": "markdown",
   "metadata": {
    "id": "FHSiqaZp8DC1"
   },
   "source": [
    "### 3.2 Assessing Data"
   ]
  },
  {
   "cell_type": "markdown",
   "metadata": {},
   "source": [
    "#### 3.2.1 DataFrame Information"
   ]
  },
  {
   "cell_type": "code",
   "execution_count": 5,
   "metadata": {},
   "outputs": [
    {
     "name": "stdout",
     "output_type": "stream",
     "text": [
      "\u001b[1mDataset: olist_customers_dataset\u001b[0m\n",
      "\u001b[1mInfo:\u001b[0m\n",
      "<class 'pandas.core.frame.DataFrame'>\n",
      "RangeIndex: 99441 entries, 0 to 99440\n",
      "Data columns (total 5 columns):\n",
      " #   Column                    Non-Null Count  Dtype \n",
      "---  ------                    --------------  ----- \n",
      " 0   customer_id               99441 non-null  object\n",
      " 1   customer_unique_id        99441 non-null  object\n",
      " 2   customer_zip_code_prefix  99441 non-null  int64 \n",
      " 3   customer_city             99441 non-null  object\n",
      " 4   customer_state            99441 non-null  object\n",
      "dtypes: int64(1), object(4)\n",
      "memory usage: 3.8+ MB\n",
      "--------------------------------------------------\n",
      "\n",
      "\u001b[1mDataset: olist_geolocation_dataset\u001b[0m\n",
      "\u001b[1mInfo:\u001b[0m\n",
      "<class 'pandas.core.frame.DataFrame'>\n",
      "RangeIndex: 1000163 entries, 0 to 1000162\n",
      "Data columns (total 5 columns):\n",
      " #   Column                       Non-Null Count    Dtype  \n",
      "---  ------                       --------------    -----  \n",
      " 0   geolocation_zip_code_prefix  1000163 non-null  int64  \n",
      " 1   geolocation_lat              1000163 non-null  float64\n",
      " 2   geolocation_lng              1000163 non-null  float64\n",
      " 3   geolocation_city             1000163 non-null  object \n",
      " 4   geolocation_state            1000163 non-null  object \n",
      "dtypes: float64(2), int64(1), object(2)\n",
      "memory usage: 38.2+ MB\n",
      "--------------------------------------------------\n",
      "\n",
      "\u001b[1mDataset: olist_orders_dataset\u001b[0m\n",
      "\u001b[1mInfo:\u001b[0m\n",
      "<class 'pandas.core.frame.DataFrame'>\n",
      "RangeIndex: 99441 entries, 0 to 99440\n",
      "Data columns (total 8 columns):\n",
      " #   Column                         Non-Null Count  Dtype \n",
      "---  ------                         --------------  ----- \n",
      " 0   order_id                       99441 non-null  object\n",
      " 1   customer_id                    99441 non-null  object\n",
      " 2   order_status                   99441 non-null  object\n",
      " 3   order_purchase_timestamp       99441 non-null  object\n",
      " 4   order_approved_at              99281 non-null  object\n",
      " 5   order_delivered_carrier_date   97658 non-null  object\n",
      " 6   order_delivered_customer_date  96476 non-null  object\n",
      " 7   order_estimated_delivery_date  99441 non-null  object\n",
      "dtypes: object(8)\n",
      "memory usage: 6.1+ MB\n",
      "--------------------------------------------------\n",
      "\n",
      "\u001b[1mDataset: olist_order_items_dataset\u001b[0m\n",
      "\u001b[1mInfo:\u001b[0m\n",
      "<class 'pandas.core.frame.DataFrame'>\n",
      "RangeIndex: 112650 entries, 0 to 112649\n",
      "Data columns (total 7 columns):\n",
      " #   Column               Non-Null Count   Dtype  \n",
      "---  ------               --------------   -----  \n",
      " 0   order_id             112650 non-null  object \n",
      " 1   order_item_id        112650 non-null  int64  \n",
      " 2   product_id           112650 non-null  object \n",
      " 3   seller_id            112650 non-null  object \n",
      " 4   shipping_limit_date  112650 non-null  object \n",
      " 5   price                112650 non-null  float64\n",
      " 6   freight_value        112650 non-null  float64\n",
      "dtypes: float64(2), int64(1), object(4)\n",
      "memory usage: 6.0+ MB\n",
      "--------------------------------------------------\n",
      "\n",
      "\u001b[1mDataset: olist_order_payments_dataset\u001b[0m\n",
      "\u001b[1mInfo:\u001b[0m\n",
      "<class 'pandas.core.frame.DataFrame'>\n",
      "RangeIndex: 103886 entries, 0 to 103885\n",
      "Data columns (total 5 columns):\n",
      " #   Column                Non-Null Count   Dtype  \n",
      "---  ------                --------------   -----  \n",
      " 0   order_id              103886 non-null  object \n",
      " 1   payment_sequential    103886 non-null  int64  \n",
      " 2   payment_type          103886 non-null  object \n",
      " 3   payment_installments  103886 non-null  int64  \n",
      " 4   payment_value         103886 non-null  float64\n",
      "dtypes: float64(1), int64(2), object(2)\n",
      "memory usage: 4.0+ MB\n",
      "--------------------------------------------------\n",
      "\n",
      "\u001b[1mDataset: olist_order_reviews_dataset\u001b[0m\n",
      "\u001b[1mInfo:\u001b[0m\n",
      "<class 'pandas.core.frame.DataFrame'>\n",
      "RangeIndex: 99224 entries, 0 to 99223\n",
      "Data columns (total 7 columns):\n",
      " #   Column                   Non-Null Count  Dtype \n",
      "---  ------                   --------------  ----- \n",
      " 0   review_id                99224 non-null  object\n",
      " 1   order_id                 99224 non-null  object\n",
      " 2   review_score             99224 non-null  int64 \n",
      " 3   review_comment_title     11568 non-null  object\n",
      " 4   review_comment_message   40977 non-null  object\n",
      " 5   review_creation_date     99224 non-null  object\n",
      " 6   review_answer_timestamp  99224 non-null  object\n",
      "dtypes: int64(1), object(6)\n",
      "memory usage: 5.3+ MB\n",
      "--------------------------------------------------\n",
      "\n",
      "\u001b[1mDataset: olist_products_dataset\u001b[0m\n",
      "\u001b[1mInfo:\u001b[0m\n",
      "<class 'pandas.core.frame.DataFrame'>\n",
      "RangeIndex: 32951 entries, 0 to 32950\n",
      "Data columns (total 9 columns):\n",
      " #   Column                      Non-Null Count  Dtype  \n",
      "---  ------                      --------------  -----  \n",
      " 0   product_id                  32951 non-null  object \n",
      " 1   product_category_name       32341 non-null  object \n",
      " 2   product_name_lenght         32341 non-null  float64\n",
      " 3   product_description_lenght  32341 non-null  float64\n",
      " 4   product_photos_qty          32341 non-null  float64\n",
      " 5   product_weight_g            32949 non-null  float64\n",
      " 6   product_length_cm           32949 non-null  float64\n",
      " 7   product_height_cm           32949 non-null  float64\n",
      " 8   product_width_cm            32949 non-null  float64\n",
      "dtypes: float64(7), object(2)\n",
      "memory usage: 2.3+ MB\n",
      "--------------------------------------------------\n",
      "\n",
      "\u001b[1mDataset: olist_sellers_dataset\u001b[0m\n",
      "\u001b[1mInfo:\u001b[0m\n",
      "<class 'pandas.core.frame.DataFrame'>\n",
      "RangeIndex: 3095 entries, 0 to 3094\n",
      "Data columns (total 4 columns):\n",
      " #   Column                  Non-Null Count  Dtype \n",
      "---  ------                  --------------  ----- \n",
      " 0   seller_id               3095 non-null   object\n",
      " 1   seller_zip_code_prefix  3095 non-null   int64 \n",
      " 2   seller_city             3095 non-null   object\n",
      " 3   seller_state            3095 non-null   object\n",
      "dtypes: int64(1), object(3)\n",
      "memory usage: 96.8+ KB\n",
      "--------------------------------------------------\n",
      "\n",
      "\u001b[1mDataset: product_category_name_translation\u001b[0m\n",
      "\u001b[1mInfo:\u001b[0m\n",
      "<class 'pandas.core.frame.DataFrame'>\n",
      "RangeIndex: 71 entries, 0 to 70\n",
      "Data columns (total 2 columns):\n",
      " #   Column                         Non-Null Count  Dtype \n",
      "---  ------                         --------------  ----- \n",
      " 0   product_category_name          71 non-null     object\n",
      " 1   product_category_name_english  71 non-null     object\n",
      "dtypes: object(2)\n",
      "memory usage: 1.2+ KB\n",
      "--------------------------------------------------\n",
      "\n"
     ]
    }
   ],
   "source": [
    "for key, df in all_data.items():\n",
    "    print(f\"\\033[1mDataset: {key}\\033[0m\")\n",
    "    \n",
    "    # Print DataFrame information\n",
    "    print(\"\\033[1mInfo:\\033[0m\")\n",
    "    df.info()\n",
    "    print('-' * 50)\n",
    "    print()"
   ]
  },
  {
   "cell_type": "markdown",
   "metadata": {},
   "source": [
    "#### 3.2.2 Duplicated Rows/Data"
   ]
  },
  {
   "cell_type": "code",
   "execution_count": 6,
   "metadata": {},
   "outputs": [
    {
     "name": "stdout",
     "output_type": "stream",
     "text": [
      "\u001b[1mDataset: olist_customers_dataset\u001b[0m\n",
      "\u001b[1mJumlah duplikasi:\u001b[0m 0\n",
      "--------------------------------------------------\n",
      "\n",
      "\u001b[1mDataset: olist_geolocation_dataset\u001b[0m\n",
      "\u001b[1mJumlah duplikasi:\u001b[0m 261831\n",
      "--------------------------------------------------\n",
      "\n",
      "\u001b[1mDataset: olist_orders_dataset\u001b[0m\n",
      "\u001b[1mJumlah duplikasi:\u001b[0m 0\n",
      "--------------------------------------------------\n",
      "\n",
      "\u001b[1mDataset: olist_order_items_dataset\u001b[0m\n",
      "\u001b[1mJumlah duplikasi:\u001b[0m 0\n",
      "--------------------------------------------------\n",
      "\n",
      "\u001b[1mDataset: olist_order_payments_dataset\u001b[0m\n",
      "\u001b[1mJumlah duplikasi:\u001b[0m 0\n",
      "--------------------------------------------------\n",
      "\n",
      "\u001b[1mDataset: olist_order_reviews_dataset\u001b[0m\n",
      "\u001b[1mJumlah duplikasi:\u001b[0m 0\n",
      "--------------------------------------------------\n",
      "\n",
      "\u001b[1mDataset: olist_products_dataset\u001b[0m\n",
      "\u001b[1mJumlah duplikasi:\u001b[0m 0\n",
      "--------------------------------------------------\n",
      "\n",
      "\u001b[1mDataset: olist_sellers_dataset\u001b[0m\n",
      "\u001b[1mJumlah duplikasi:\u001b[0m 0\n",
      "--------------------------------------------------\n",
      "\n",
      "\u001b[1mDataset: product_category_name_translation\u001b[0m\n",
      "\u001b[1mJumlah duplikasi:\u001b[0m 0\n",
      "--------------------------------------------------\n",
      "\n"
     ]
    }
   ],
   "source": [
    "for key, df in all_data.items():\n",
    "    print(f\"\\033[1mDataset: {key}\\033[0m\")\n",
    "    \n",
    "    # Calculate and print the number of duplicate rows\n",
    "    duplicates_count = df.duplicated().sum()\n",
    "    print(\"\\033[1mJumlah duplikasi:\\033[0m\", duplicates_count)\n",
    "    print('-' * 50)\n",
    "    print()"
   ]
  },
  {
   "cell_type": "markdown",
   "metadata": {},
   "source": [
    "#### 3.2.3 Missing Values"
   ]
  },
  {
   "cell_type": "code",
   "execution_count": 7,
   "metadata": {},
   "outputs": [
    {
     "name": "stdout",
     "output_type": "stream",
     "text": [
      "\u001b[1mDataset: olist_customers_dataset\u001b[0m\n",
      "\u001b[1mMissing Values:\u001b[0m\n",
      "customer_id                 0\n",
      "customer_unique_id          0\n",
      "customer_zip_code_prefix    0\n",
      "customer_city               0\n",
      "customer_state              0\n",
      "dtype: int64\n",
      "--------------------------------------------------\n",
      "\n",
      "\u001b[1mDataset: olist_geolocation_dataset\u001b[0m\n",
      "\u001b[1mMissing Values:\u001b[0m\n",
      "geolocation_zip_code_prefix    0\n",
      "geolocation_lat                0\n",
      "geolocation_lng                0\n",
      "geolocation_city               0\n",
      "geolocation_state              0\n",
      "dtype: int64\n",
      "--------------------------------------------------\n",
      "\n",
      "\u001b[1mDataset: olist_orders_dataset\u001b[0m\n",
      "\u001b[1mMissing Values:\u001b[0m\n",
      "order_id                            0\n",
      "customer_id                         0\n",
      "order_status                        0\n",
      "order_purchase_timestamp            0\n",
      "order_approved_at                 160\n",
      "order_delivered_carrier_date     1783\n",
      "order_delivered_customer_date    2965\n",
      "order_estimated_delivery_date       0\n",
      "dtype: int64\n",
      "--------------------------------------------------\n",
      "\n",
      "\u001b[1mDataset: olist_order_items_dataset\u001b[0m\n",
      "\u001b[1mMissing Values:\u001b[0m\n",
      "order_id               0\n",
      "order_item_id          0\n",
      "product_id             0\n",
      "seller_id              0\n",
      "shipping_limit_date    0\n",
      "price                  0\n",
      "freight_value          0\n",
      "dtype: int64\n",
      "--------------------------------------------------\n",
      "\n",
      "\u001b[1mDataset: olist_order_payments_dataset\u001b[0m\n",
      "\u001b[1mMissing Values:\u001b[0m\n",
      "order_id                0\n",
      "payment_sequential      0\n",
      "payment_type            0\n",
      "payment_installments    0\n",
      "payment_value           0\n",
      "dtype: int64\n",
      "--------------------------------------------------\n",
      "\n",
      "\u001b[1mDataset: olist_order_reviews_dataset\u001b[0m\n",
      "\u001b[1mMissing Values:\u001b[0m\n",
      "review_id                      0\n",
      "order_id                       0\n",
      "review_score                   0\n",
      "review_comment_title       87656\n",
      "review_comment_message     58247\n",
      "review_creation_date           0\n",
      "review_answer_timestamp        0\n",
      "dtype: int64\n",
      "--------------------------------------------------\n",
      "\n",
      "\u001b[1mDataset: olist_products_dataset\u001b[0m\n",
      "\u001b[1mMissing Values:\u001b[0m\n",
      "product_id                      0\n",
      "product_category_name         610\n",
      "product_name_lenght           610\n",
      "product_description_lenght    610\n",
      "product_photos_qty            610\n",
      "product_weight_g                2\n",
      "product_length_cm               2\n",
      "product_height_cm               2\n",
      "product_width_cm                2\n",
      "dtype: int64\n",
      "--------------------------------------------------\n",
      "\n",
      "\u001b[1mDataset: olist_sellers_dataset\u001b[0m\n",
      "\u001b[1mMissing Values:\u001b[0m\n",
      "seller_id                 0\n",
      "seller_zip_code_prefix    0\n",
      "seller_city               0\n",
      "seller_state              0\n",
      "dtype: int64\n",
      "--------------------------------------------------\n",
      "\n",
      "\u001b[1mDataset: product_category_name_translation\u001b[0m\n",
      "\u001b[1mMissing Values:\u001b[0m\n",
      "product_category_name            0\n",
      "product_category_name_english    0\n",
      "dtype: int64\n",
      "--------------------------------------------------\n",
      "\n"
     ]
    }
   ],
   "source": [
    "for key, df in all_data.items():\n",
    "    print(f\"\\033[1mDataset: {key}\\033[0m\")\n",
    "    \n",
    "    # Calculate and print missing values per column\n",
    "    print(\"\\033[1mMissing Values:\\033[0m\")\n",
    "    print(df.isna().sum())\n",
    "    print('-' * 50)\n",
    "    print()\n"
   ]
  },
  {
   "cell_type": "markdown",
   "metadata": {},
   "source": [
    "#### 3.2.4 Summary Statistics"
   ]
  },
  {
   "cell_type": "code",
   "execution_count": 8,
   "metadata": {},
   "outputs": [
    {
     "name": "stdout",
     "output_type": "stream",
     "text": [
      "\u001b[1mDataset: olist_customers_dataset\u001b[0m\n",
      "\u001b[1mSummary Statistics:\u001b[0m\n",
      "       customer_zip_code_prefix\n",
      "count              99441.000000\n",
      "mean               35137.474583\n",
      "std                29797.938996\n",
      "min                 1003.000000\n",
      "25%                11347.000000\n",
      "50%                24416.000000\n",
      "75%                58900.000000\n",
      "max                99990.000000\n",
      "--------------------------------------------------\n",
      "\n",
      "\u001b[1mDataset: olist_geolocation_dataset\u001b[0m\n",
      "\u001b[1mSummary Statistics:\u001b[0m\n",
      "       geolocation_zip_code_prefix  geolocation_lat  geolocation_lng\n",
      "count                 1.000163e+06     1.000163e+06     1.000163e+06\n",
      "mean                  3.657417e+04    -2.117615e+01    -4.639054e+01\n",
      "std                   3.054934e+04     5.715866e+00     4.269748e+00\n",
      "min                   1.001000e+03    -3.660537e+01    -1.014668e+02\n",
      "25%                   1.107500e+04    -2.360355e+01    -4.857317e+01\n",
      "50%                   2.653000e+04    -2.291938e+01    -4.663788e+01\n",
      "75%                   6.350400e+04    -1.997962e+01    -4.376771e+01\n",
      "max                   9.999000e+04     4.506593e+01     1.211054e+02\n",
      "--------------------------------------------------\n",
      "\n",
      "\u001b[1mDataset: olist_orders_dataset\u001b[0m\n",
      "\u001b[1mSummary Statistics:\u001b[0m\n",
      "                                order_id                       customer_id  \\\n",
      "count                              99441                             99441   \n",
      "unique                             99441                             99441   \n",
      "top     66dea50a8b16d9b4dee7af250b4be1a5  edb027a75a1449115f6b43211ae02a24   \n",
      "freq                                   1                                 1   \n",
      "\n",
      "       order_status order_purchase_timestamp    order_approved_at  \\\n",
      "count         99441                    99441                99281   \n",
      "unique            8                    98875                90733   \n",
      "top       delivered      2018-08-02 12:05:26  2018-02-27 04:31:10   \n",
      "freq          96478                        3                    9   \n",
      "\n",
      "       order_delivered_carrier_date order_delivered_customer_date  \\\n",
      "count                         97658                         96476   \n",
      "unique                        81018                         95664   \n",
      "top             2018-05-09 15:48:00           2018-05-08 19:36:48   \n",
      "freq                             47                             3   \n",
      "\n",
      "       order_estimated_delivery_date  \n",
      "count                          99441  \n",
      "unique                           459  \n",
      "top              2017-12-20 00:00:00  \n",
      "freq                             522  \n",
      "--------------------------------------------------\n",
      "\n",
      "\u001b[1mDataset: olist_order_items_dataset\u001b[0m\n",
      "\u001b[1mSummary Statistics:\u001b[0m\n",
      "       order_item_id          price  freight_value\n",
      "count  112650.000000  112650.000000  112650.000000\n",
      "mean        1.197834     120.653739      19.990320\n",
      "std         0.705124     183.633928      15.806405\n",
      "min         1.000000       0.850000       0.000000\n",
      "25%         1.000000      39.900000      13.080000\n",
      "50%         1.000000      74.990000      16.260000\n",
      "75%         1.000000     134.900000      21.150000\n",
      "max        21.000000    6735.000000     409.680000\n",
      "--------------------------------------------------\n",
      "\n",
      "\u001b[1mDataset: olist_order_payments_dataset\u001b[0m\n",
      "\u001b[1mSummary Statistics:\u001b[0m\n",
      "       payment_sequential  payment_installments  payment_value\n",
      "count       103886.000000         103886.000000  103886.000000\n",
      "mean             1.092679              2.853349     154.100380\n",
      "std              0.706584              2.687051     217.494064\n",
      "min              1.000000              0.000000       0.000000\n",
      "25%              1.000000              1.000000      56.790000\n",
      "50%              1.000000              1.000000     100.000000\n",
      "75%              1.000000              4.000000     171.837500\n",
      "max             29.000000             24.000000   13664.080000\n",
      "--------------------------------------------------\n",
      "\n",
      "\u001b[1mDataset: olist_order_reviews_dataset\u001b[0m\n",
      "\u001b[1mSummary Statistics:\u001b[0m\n",
      "       review_score\n",
      "count  99224.000000\n",
      "mean       4.086421\n",
      "std        1.347579\n",
      "min        1.000000\n",
      "25%        4.000000\n",
      "50%        5.000000\n",
      "75%        5.000000\n",
      "max        5.000000\n",
      "--------------------------------------------------\n",
      "\n",
      "\u001b[1mDataset: olist_products_dataset\u001b[0m\n",
      "\u001b[1mSummary Statistics:\u001b[0m\n",
      "       product_name_lenght  product_description_lenght  product_photos_qty  \\\n",
      "count         32341.000000                32341.000000        32341.000000   \n",
      "mean             48.476949                  771.495285            2.188986   \n",
      "std              10.245741                  635.115225            1.736766   \n",
      "min               5.000000                    4.000000            1.000000   \n",
      "25%              42.000000                  339.000000            1.000000   \n",
      "50%              51.000000                  595.000000            1.000000   \n",
      "75%              57.000000                  972.000000            3.000000   \n",
      "max              76.000000                 3992.000000           20.000000   \n",
      "\n",
      "       product_weight_g  product_length_cm  product_height_cm  \\\n",
      "count      32949.000000       32949.000000       32949.000000   \n",
      "mean        2276.472488          30.815078          16.937661   \n",
      "std         4282.038731          16.914458          13.637554   \n",
      "min            0.000000           7.000000           2.000000   \n",
      "25%          300.000000          18.000000           8.000000   \n",
      "50%          700.000000          25.000000          13.000000   \n",
      "75%         1900.000000          38.000000          21.000000   \n",
      "max        40425.000000         105.000000         105.000000   \n",
      "\n",
      "       product_width_cm  \n",
      "count      32949.000000  \n",
      "mean          23.196728  \n",
      "std           12.079047  \n",
      "min            6.000000  \n",
      "25%           15.000000  \n",
      "50%           20.000000  \n",
      "75%           30.000000  \n",
      "max          118.000000  \n",
      "--------------------------------------------------\n",
      "\n",
      "\u001b[1mDataset: olist_sellers_dataset\u001b[0m\n",
      "\u001b[1mSummary Statistics:\u001b[0m\n",
      "       seller_zip_code_prefix\n",
      "count             3095.000000\n",
      "mean             32291.059451\n",
      "std              32713.453830\n",
      "min               1001.000000\n",
      "25%               7093.500000\n",
      "50%              14940.000000\n",
      "75%              64552.500000\n",
      "max              99730.000000\n",
      "--------------------------------------------------\n",
      "\n",
      "\u001b[1mDataset: product_category_name_translation\u001b[0m\n",
      "\u001b[1mSummary Statistics:\u001b[0m\n",
      "       product_category_name product_category_name_english\n",
      "count                     71                            71\n",
      "unique                    71                            71\n",
      "top             beleza_saude                 health_beauty\n",
      "freq                       1                             1\n",
      "--------------------------------------------------\n",
      "\n"
     ]
    }
   ],
   "source": [
    "for key, df in all_data.items():\n",
    "    print(f\"\\033[1mDataset: {key}\\033[0m\")\n",
    "    \n",
    "    # Print summary statistics for numerical columns\n",
    "    print(\"\\033[1mSummary Statistics:\\033[0m\")\n",
    "    print(df.describe())\n",
    "    print('-' * 50)\n",
    "    print()\n"
   ]
  },
  {
   "cell_type": "markdown",
   "metadata": {
    "id": "EhN5R4hr8DC1"
   },
   "source": [
    "### 3.3 Cleaning Data"
   ]
  },
  {
   "cell_type": "markdown",
   "metadata": {
    "id": "jVnYpprE9Evz",
    "jp-MarkdownHeadingCollapsed": true
   },
   "source": [
    "#### 3.3.1 olist_geolocation_dataset Duplication Data"
   ]
  },
  {
   "cell_type": "code",
   "execution_count": 9,
   "metadata": {},
   "outputs": [],
   "source": [
    "all_data['olist_geolocation_dataset'].drop_duplicates(inplace=True)"
   ]
  },
  {
   "cell_type": "code",
   "execution_count": 10,
   "metadata": {},
   "outputs": [
    {
     "name": "stdout",
     "output_type": "stream",
     "text": [
      "Jumlah duplikasi:  0\n"
     ]
    }
   ],
   "source": [
    "print(\"Jumlah duplikasi: \", all_data['olist_geolocation_dataset'].duplicated().sum())"
   ]
  },
  {
   "cell_type": "markdown",
   "metadata": {},
   "source": [
    "#### 3.3.2 olist_orders_dataset Missing Value"
   ]
  },
  {
   "cell_type": "code",
   "execution_count": 11,
   "metadata": {},
   "outputs": [
    {
     "name": "stdout",
     "output_type": "stream",
     "text": [
      "order_purchase_timestamp         datetime64[ns]\n",
      "order_approved_at                datetime64[ns]\n",
      "order_delivered_carrier_date     datetime64[ns]\n",
      "order_delivered_customer_date    datetime64[ns]\n",
      "order_estimated_delivery_date    datetime64[ns]\n",
      "dtype: object\n"
     ]
    }
   ],
   "source": [
    "# Convert relevant columns to datetime format\n",
    "datetime_columns = [\n",
    "    'order_purchase_timestamp',\n",
    "    'order_approved_at',\n",
    "    'order_delivered_carrier_date',\n",
    "    'order_delivered_customer_date',\n",
    "    'order_estimated_delivery_date'\n",
    "]\n",
    "\n",
    "# Convert each column to datetime directly in the DataFrame\n",
    "for column in datetime_columns:\n",
    "    all_data['olist_orders_dataset'][column] = pd.to_datetime(all_data['olist_orders_dataset'][column], errors='coerce')\n",
    "\n",
    "print(all_data['olist_orders_dataset'][datetime_columns].dtypes)"
   ]
  },
  {
   "cell_type": "code",
   "execution_count": 12,
   "metadata": {},
   "outputs": [
    {
     "name": "stdout",
     "output_type": "stream",
     "text": [
      "Missing Data Counts by Order Status (Sorted):\n",
      "order_status\n",
      "shipped        1107\n",
      "canceled        619\n",
      "unavailable     609\n",
      "invoiced        314\n",
      "processing      301\n",
      "delivered        23\n",
      "created           5\n",
      "approved          2\n",
      "dtype: int64\n"
     ]
    }
   ],
   "source": [
    "# Filter the dataset for rows with missing values in relevant columns\n",
    "missing_data = all_data['olist_orders_dataset'][all_data['olist_orders_dataset'][['order_approved_at', 'order_delivered_carrier_date', 'order_delivered_customer_date']].isna().any(axis=1)]\n",
    "missing_data_counts = missing_data.groupby('order_status').size()\n",
    "\n",
    "# Sort the counts in descending order\n",
    "missing_data_counts_sorted = missing_data_counts.sort_values(ascending=False)\n",
    "print(\"Missing Data Counts by Order Status (Sorted):\")\n",
    "print(missing_data_counts_sorted)\n"
   ]
  },
  {
   "cell_type": "code",
   "execution_count": 13,
   "metadata": {},
   "outputs": [
    {
     "name": "stdout",
     "output_type": "stream",
     "text": [
      "Missing 'order_approved_at' Counts by Order Status (Sorted):\n",
      "order_status\n",
      "canceled     141\n",
      "delivered     14\n",
      "created        5\n",
      "dtype: int64\n",
      "--------------------------------------------------\n",
      "Missing 'order_delivered_carrier_date' Counts by Order Status (Sorted):\n",
      "order_status\n",
      "unavailable    609\n",
      "canceled       550\n",
      "invoiced       314\n",
      "processing     301\n",
      "created          5\n",
      "approved         2\n",
      "delivered        2\n",
      "dtype: int64\n",
      "--------------------------------------------------\n",
      "Missing 'order_delivered_customer_date' Counts by Order Status (Sorted):\n",
      "order_status\n",
      "shipped        1107\n",
      "canceled        619\n",
      "unavailable     609\n",
      "invoiced        314\n",
      "processing      301\n",
      "delivered         8\n",
      "created           5\n",
      "approved          2\n",
      "dtype: int64\n",
      "--------------------------------------------------\n"
     ]
    }
   ],
   "source": [
    "# Select the dataset\n",
    "orders_df = all_data['olist_orders_dataset']\n",
    "\n",
    "# Filter rows with missing values specifically in the given columns\n",
    "missing_order_approved = orders_df[orders_df['order_approved_at'].isna()]\n",
    "missing_carrier_date = orders_df[orders_df['order_delivered_carrier_date'].isna()]\n",
    "missing_customer_date = orders_df[orders_df['order_delivered_customer_date'].isna()]\n",
    "\n",
    "# Group by 'order_status' and count the number of missing rows per status for each specific column\n",
    "missing_order_approved_counts = missing_order_approved.groupby('order_status').size().sort_values(ascending=False)\n",
    "missing_carrier_date_counts = missing_carrier_date.groupby('order_status').size().sort_values(ascending=False)\n",
    "missing_customer_date_counts = missing_customer_date.groupby('order_status').size().sort_values(ascending=False)\n",
    "\n",
    "# Print the results\n",
    "print(\"Missing 'order_approved_at' Counts by Order Status (Sorted):\")\n",
    "print(missing_order_approved_counts)\n",
    "print('-' * 50)\n",
    "\n",
    "print(\"Missing 'order_delivered_carrier_date' Counts by Order Status (Sorted):\")\n",
    "print(missing_carrier_date_counts)\n",
    "print('-' * 50)\n",
    "\n",
    "print(\"Missing 'order_delivered_customer_date' Counts by Order Status (Sorted):\")\n",
    "print(missing_customer_date_counts)\n",
    "print('-' * 50)\n"
   ]
  },
  {
   "cell_type": "markdown",
   "metadata": {
    "id": "Q_5ejIqckiSP"
   },
   "source": [
    "**Insight:**\n",
    "1. **Dropping Irrelevant Rows**:\n",
    "   - Dropping rows with statuses like `'canceled'`, `'unavailable'`, `'created'`, `'invoiced'`, `'processing'`, and `'approved'` is crucial to focus on completed transactions that provide meaningful insights into delivery efficiency, customer behavior, and sales analysis.\n",
    "\n",
    "2. **Imputation for Missing Values**:\n",
    "   - `order_approved_at`: Imputed using `order_purchase_timestamp` for delivered orders ensures completeness of the approval process data, which is necessary for calculating accurate order timelines.\n",
    "   - `order_delivered_carrier_date`: Calculated using the median duration between `order_approved_at` and `order_delivered_carrier_date`. This avoids arbitrary estimations and allows for a realistic imputation that reflects historical performance.\n",
    "   - `order_delivered_customer_date`: Similarly, imputed using the median duration from `order_delivered_carrier_date` to `order_delivered_customer_date`, ensuring delivery metrics are consistent and represent the general trend in delivery performance.\n",
    "\n",
    "3. **Business Questions Addressed**:\n",
    "   - Average Delivery Time: Imputing missing delivery timestamps ensures that average delivery times are calculated on a complete dataset, representing typical delivery experiences.\n",
    "   - Customer Spending and Behavior: Dropping incomplete orders ensures that analyses of customer spending and repeat purchase behaviors are based only on fully completed orders, thus accurately representing customer engagement.\n",
    "   - Delivery Efficiency: Imputing carrier and customer delivery dates enables the calculation of logistics efficiency and delivery bottlenecks, critical for improving service quality."
   ]
  },
  {
   "cell_type": "code",
   "execution_count": 14,
   "metadata": {},
   "outputs": [],
   "source": [
    "# Drop rows with statuses that indicate incomplete or irrelevant transactions\n",
    "statuses_to_drop = ['canceled', 'unavailable', 'created', 'invoiced', 'processing', 'approved']\n",
    "all_data['olist_orders_dataset'] = all_data['olist_orders_dataset'][~all_data['olist_orders_dataset']['order_status'].isin(statuses_to_drop)].copy()\n",
    "\n",
    "# Impute 'order_approved_at' using 'order_purchase_timestamp' for delivered orders\n",
    "mask_approved = (all_data['olist_orders_dataset']['order_status'] == 'delivered') & (all_data['olist_orders_dataset']['order_approved_at'].isna())\n",
    "all_data['olist_orders_dataset'].loc[mask_approved, 'order_approved_at'] = all_data['olist_orders_dataset'].loc[mask_approved, 'order_purchase_timestamp']\n",
    "\n",
    "# Impute 'order_delivered_carrier_date' using an estimated value for delivered orders\n",
    "valid_carrier_times = all_data['olist_orders_dataset'].dropna(subset=['order_approved_at', 'order_delivered_carrier_date'])\n",
    "carrier_delivery_durations = (valid_carrier_times['order_delivered_carrier_date'] - valid_carrier_times['order_approved_at']).dt.days\n",
    "median_carrier_delivery_duration_days = carrier_delivery_durations.median()\n",
    "median_delivery_time = pd.Timedelta(days=median_carrier_delivery_duration_days)\n",
    "mask_carrier = (all_data['olist_orders_dataset']['order_status'] == 'delivered') & (all_data['olist_orders_dataset']['order_delivered_carrier_date'].isna())\n",
    "all_data['olist_orders_dataset'].loc[mask_carrier, 'order_delivered_carrier_date'] = all_data['olist_orders_dataset'].loc[mask_carrier, 'order_approved_at'] + median_delivery_time\n",
    "\n",
    "# Impute 'order_delivered_customer_date' using the median delivery duration for shipped and delivered orders\n",
    "mask_customer = (all_data['olist_orders_dataset']['order_status'].isin(['shipped', 'delivered'])) & (all_data['olist_orders_dataset']['order_delivered_customer_date'].isna())\n",
    "valid_durations = all_data['olist_orders_dataset'].dropna(subset=['order_delivered_customer_date', 'order_delivered_carrier_date'])\n",
    "delivery_durations = (valid_durations['order_delivered_customer_date'] - valid_durations['order_delivered_carrier_date']).dt.days\n",
    "median_delivery_duration = pd.Timedelta(days=delivery_durations.median())\n",
    "\n",
    "# Impute the missing 'order_delivered_customer_date' using 'order_delivered_carrier_date' + median delivery duration\n",
    "all_data['olist_orders_dataset'].loc[mask_customer, 'order_delivered_customer_date'] = all_data['olist_orders_dataset'].loc[mask_customer, 'order_delivered_carrier_date'] + median_delivery_duration"
   ]
  },
  {
   "cell_type": "code",
   "execution_count": 15,
   "metadata": {
    "scrolled": true
   },
   "outputs": [
    {
     "name": "stdout",
     "output_type": "stream",
     "text": [
      "Duplication Total:  order_id                         0\n",
      "customer_id                      0\n",
      "order_status                     0\n",
      "order_purchase_timestamp         0\n",
      "order_approved_at                0\n",
      "order_delivered_carrier_date     0\n",
      "order_delivered_customer_date    0\n",
      "order_estimated_delivery_date    0\n",
      "dtype: int64\n"
     ]
    }
   ],
   "source": [
    "print(\"Duplication Total: \", all_data['olist_orders_dataset'].isna().sum())"
   ]
  },
  {
   "cell_type": "code",
   "execution_count": 16,
   "metadata": {},
   "outputs": [
    {
     "data": {
      "text/html": [
       "<div>\n",
       "<style scoped>\n",
       "    .dataframe tbody tr th:only-of-type {\n",
       "        vertical-align: middle;\n",
       "    }\n",
       "\n",
       "    .dataframe tbody tr th {\n",
       "        vertical-align: top;\n",
       "    }\n",
       "\n",
       "    .dataframe thead th {\n",
       "        text-align: right;\n",
       "    }\n",
       "</style>\n",
       "<table border=\"1\" class=\"dataframe\">\n",
       "  <thead>\n",
       "    <tr style=\"text-align: right;\">\n",
       "      <th></th>\n",
       "      <th>order_purchase_timestamp</th>\n",
       "      <th>order_approved_at</th>\n",
       "      <th>order_delivered_carrier_date</th>\n",
       "      <th>order_delivered_customer_date</th>\n",
       "      <th>order_estimated_delivery_date</th>\n",
       "    </tr>\n",
       "  </thead>\n",
       "  <tbody>\n",
       "    <tr>\n",
       "      <th>count</th>\n",
       "      <td>97585</td>\n",
       "      <td>97585</td>\n",
       "      <td>97585</td>\n",
       "      <td>97585</td>\n",
       "      <td>97585</td>\n",
       "    </tr>\n",
       "    <tr>\n",
       "      <th>mean</th>\n",
       "      <td>2018-01-01 16:05:15.298355200</td>\n",
       "      <td>2018-01-02 02:22:45.863011840</td>\n",
       "      <td>2018-01-04 21:41:54.077460736</td>\n",
       "      <td>2018-01-14 04:59:48.557493504</td>\n",
       "      <td>2018-01-25 10:08:49.089511680</td>\n",
       "    </tr>\n",
       "    <tr>\n",
       "      <th>min</th>\n",
       "      <td>2016-09-04 21:15:19</td>\n",
       "      <td>2016-09-15 12:16:38</td>\n",
       "      <td>2016-10-08 10:34:01</td>\n",
       "      <td>2016-10-11 13:46:32</td>\n",
       "      <td>2016-10-04 00:00:00</td>\n",
       "    </tr>\n",
       "    <tr>\n",
       "      <th>25%</th>\n",
       "      <td>2017-09-13 18:49:50</td>\n",
       "      <td>2017-09-14 02:55:29</td>\n",
       "      <td>2017-09-15 21:24:48</td>\n",
       "      <td>2017-09-25 19:52:06</td>\n",
       "      <td>2017-10-05 00:00:00</td>\n",
       "    </tr>\n",
       "    <tr>\n",
       "      <th>50%</th>\n",
       "      <td>2018-01-20 17:20:34</td>\n",
       "      <td>2018-01-20 23:20:15</td>\n",
       "      <td>2018-01-24 13:44:49</td>\n",
       "      <td>2018-02-02 17:47:21</td>\n",
       "      <td>2018-02-16 00:00:00</td>\n",
       "    </tr>\n",
       "    <tr>\n",
       "      <th>75%</th>\n",
       "      <td>2018-05-05 12:02:10</td>\n",
       "      <td>2018-05-05 17:55:12</td>\n",
       "      <td>2018-05-08 13:50:00</td>\n",
       "      <td>2018-05-15 20:32:10</td>\n",
       "      <td>2018-05-28 00:00:00</td>\n",
       "    </tr>\n",
       "    <tr>\n",
       "      <th>max</th>\n",
       "      <td>2018-09-03 09:06:57</td>\n",
       "      <td>2018-09-03 17:40:06</td>\n",
       "      <td>2018-09-11 19:48:28</td>\n",
       "      <td>2018-10-17 13:22:46</td>\n",
       "      <td>2018-10-25 00:00:00</td>\n",
       "    </tr>\n",
       "  </tbody>\n",
       "</table>\n",
       "</div>"
      ],
      "text/plain": [
       "            order_purchase_timestamp              order_approved_at  \\\n",
       "count                          97585                          97585   \n",
       "mean   2018-01-01 16:05:15.298355200  2018-01-02 02:22:45.863011840   \n",
       "min              2016-09-04 21:15:19            2016-09-15 12:16:38   \n",
       "25%              2017-09-13 18:49:50            2017-09-14 02:55:29   \n",
       "50%              2018-01-20 17:20:34            2018-01-20 23:20:15   \n",
       "75%              2018-05-05 12:02:10            2018-05-05 17:55:12   \n",
       "max              2018-09-03 09:06:57            2018-09-03 17:40:06   \n",
       "\n",
       "        order_delivered_carrier_date  order_delivered_customer_date  \\\n",
       "count                          97585                          97585   \n",
       "mean   2018-01-04 21:41:54.077460736  2018-01-14 04:59:48.557493504   \n",
       "min              2016-10-08 10:34:01            2016-10-11 13:46:32   \n",
       "25%              2017-09-15 21:24:48            2017-09-25 19:52:06   \n",
       "50%              2018-01-24 13:44:49            2018-02-02 17:47:21   \n",
       "75%              2018-05-08 13:50:00            2018-05-15 20:32:10   \n",
       "max              2018-09-11 19:48:28            2018-10-17 13:22:46   \n",
       "\n",
       "       order_estimated_delivery_date  \n",
       "count                          97585  \n",
       "mean   2018-01-25 10:08:49.089511680  \n",
       "min              2016-10-04 00:00:00  \n",
       "25%              2017-10-05 00:00:00  \n",
       "50%              2018-02-16 00:00:00  \n",
       "75%              2018-05-28 00:00:00  \n",
       "max              2018-10-25 00:00:00  "
      ]
     },
     "execution_count": 16,
     "metadata": {},
     "output_type": "execute_result"
    }
   ],
   "source": [
    "all_data['olist_orders_dataset'].describe()"
   ]
  },
  {
   "cell_type": "markdown",
   "metadata": {},
   "source": [
    "#### 3.2.3 olist_order_reviews_dataset Missing Values"
   ]
  },
  {
   "cell_type": "code",
   "execution_count": 17,
   "metadata": {},
   "outputs": [],
   "source": [
    "# Drop rows if either 'review_comment_title' or 'review_comment_message' is missing\n",
    "all_data['olist_order_reviews_dataset'].dropna(subset=['review_comment_title', 'review_comment_message'], how='any', inplace=True)\n",
    "all_data['olist_order_reviews_dataset'].reset_index(drop=True, inplace=True)"
   ]
  },
  {
   "cell_type": "code",
   "execution_count": 18,
   "metadata": {},
   "outputs": [
    {
     "name": "stdout",
     "output_type": "stream",
     "text": [
      "Duplication Total:  review_id                  0\n",
      "order_id                   0\n",
      "review_score               0\n",
      "review_comment_title       0\n",
      "review_comment_message     0\n",
      "review_creation_date       0\n",
      "review_answer_timestamp    0\n",
      "dtype: int64\n"
     ]
    }
   ],
   "source": [
    "print(\"Duplication Total: \", all_data['olist_order_reviews_dataset'].isna().sum())"
   ]
  },
  {
   "cell_type": "code",
   "execution_count": 19,
   "metadata": {},
   "outputs": [
    {
     "data": {
      "text/html": [
       "<div>\n",
       "<style scoped>\n",
       "    .dataframe tbody tr th:only-of-type {\n",
       "        vertical-align: middle;\n",
       "    }\n",
       "\n",
       "    .dataframe tbody tr th {\n",
       "        vertical-align: top;\n",
       "    }\n",
       "\n",
       "    .dataframe thead th {\n",
       "        text-align: right;\n",
       "    }\n",
       "</style>\n",
       "<table border=\"1\" class=\"dataframe\">\n",
       "  <thead>\n",
       "    <tr style=\"text-align: right;\">\n",
       "      <th></th>\n",
       "      <th>review_score</th>\n",
       "    </tr>\n",
       "  </thead>\n",
       "  <tbody>\n",
       "    <tr>\n",
       "      <th>count</th>\n",
       "      <td>9839.000000</td>\n",
       "    </tr>\n",
       "    <tr>\n",
       "      <th>mean</th>\n",
       "      <td>3.837585</td>\n",
       "    </tr>\n",
       "    <tr>\n",
       "      <th>std</th>\n",
       "      <td>1.556435</td>\n",
       "    </tr>\n",
       "    <tr>\n",
       "      <th>min</th>\n",
       "      <td>1.000000</td>\n",
       "    </tr>\n",
       "    <tr>\n",
       "      <th>25%</th>\n",
       "      <td>3.000000</td>\n",
       "    </tr>\n",
       "    <tr>\n",
       "      <th>50%</th>\n",
       "      <td>5.000000</td>\n",
       "    </tr>\n",
       "    <tr>\n",
       "      <th>75%</th>\n",
       "      <td>5.000000</td>\n",
       "    </tr>\n",
       "    <tr>\n",
       "      <th>max</th>\n",
       "      <td>5.000000</td>\n",
       "    </tr>\n",
       "  </tbody>\n",
       "</table>\n",
       "</div>"
      ],
      "text/plain": [
       "       review_score\n",
       "count   9839.000000\n",
       "mean       3.837585\n",
       "std        1.556435\n",
       "min        1.000000\n",
       "25%        3.000000\n",
       "50%        5.000000\n",
       "75%        5.000000\n",
       "max        5.000000"
      ]
     },
     "execution_count": 19,
     "metadata": {},
     "output_type": "execute_result"
    }
   ],
   "source": [
    "all_data['olist_order_reviews_dataset'].describe()"
   ]
  },
  {
   "cell_type": "markdown",
   "metadata": {},
   "source": [
    "**Insight**:\n",
    "To answer the Business question, we don't need to use `olist_order_reviews_dataset`"
   ]
  },
  {
   "cell_type": "markdown",
   "metadata": {},
   "source": [
    "#### 3.2.4 olist_products_dataset Missing Values"
   ]
  },
  {
   "cell_type": "code",
   "execution_count": 20,
   "metadata": {
    "scrolled": true
   },
   "outputs": [
    {
     "name": "stdout",
     "output_type": "stream",
     "text": [
      "Number of products with NaN values in all columns (product_weight_g, product_length_cm, product_height_cm, product_width_cm): 2\n",
      "Number of products with NaN values in all columns (product_category_name, product_name_lenght, product_description_lenght, product_photos_qty): 609\n",
      "Number of products after dropping rows: 32340\n"
     ]
    }
   ],
   "source": [
    "# List of columns to check, split into two sets\n",
    "columns_sets_to_check = [\n",
    "    ['product_weight_g', 'product_length_cm', 'product_height_cm', 'product_width_cm'],\n",
    "    ['product_category_name', 'product_name_lenght', 'product_description_lenght', 'product_photos_qty']\n",
    "]\n",
    "\n",
    "# Loop through each set of columns to check NaN values, print the count, and drop rows if all are NaN\n",
    "for columns_to_check in columns_sets_to_check:\n",
    "    nan_mask = all_data['olist_products_dataset'][columns_to_check].isna().all(axis=1)\n",
    "    num_products_with_4_nan = nan_mask.sum()\n",
    "    print(f\"Number of products with NaN values in all columns ({', '.join(columns_to_check)}): {num_products_with_4_nan}\")\n",
    "    all_data['olist_products_dataset'].dropna(subset=columns_to_check, how='all', inplace=True)\n",
    "\n",
    "# Reset index after dropping rows to maintain consistency\n",
    "all_data['olist_products_dataset'].reset_index(drop=True, inplace=True)\n",
    "print(f\"Number of products after dropping rows: {len(all_data['olist_products_dataset'])}\")"
   ]
  },
  {
   "cell_type": "code",
   "execution_count": 21,
   "metadata": {},
   "outputs": [
    {
     "name": "stdout",
     "output_type": "stream",
     "text": [
      "Duplication Total:  product_id                    0\n",
      "product_category_name         0\n",
      "product_name_lenght           0\n",
      "product_description_lenght    0\n",
      "product_photos_qty            0\n",
      "product_weight_g              0\n",
      "product_length_cm             0\n",
      "product_height_cm             0\n",
      "product_width_cm              0\n",
      "dtype: int64\n"
     ]
    }
   ],
   "source": [
    "print(\"Duplication Total: \", all_data['olist_products_dataset'].isna().sum())"
   ]
  },
  {
   "cell_type": "markdown",
   "metadata": {},
   "source": [
    "**Insight**:\n",
    "After looking at the pattern of the data, any data that has 4 NaN rows cannot be imputed or interpolated.\n",
    "In addition, this dataset will not answer the business question."
   ]
  },
  {
   "cell_type": "markdown",
   "metadata": {
    "id": "gp-Y6wU38DC1"
   },
   "source": [
    "## 4. Exploratory Data Analysis (EDA)"
   ]
  },
  {
   "cell_type": "code",
   "execution_count": 22,
   "metadata": {},
   "outputs": [],
   "source": [
    "# Split all_data dictionary into separate DataFrames\n",
    "customers_df = all_data['olist_customers_dataset']\n",
    "orders_df = all_data['olist_orders_dataset']\n",
    "order_items_df = all_data['olist_order_items_dataset']\n",
    "geolocation_df = all_data['olist_geolocation_dataset']\n",
    "order_payments_df = all_data['olist_order_payments_dataset']\n",
    "order_reviews_df = all_data['olist_order_reviews_dataset']\n",
    "products_df = all_data['olist_products_dataset']\n",
    "sellers_df = all_data['olist_sellers_dataset']\n",
    "category_name_translation_df = all_data['product_category_name_translation']\n"
   ]
  },
  {
   "cell_type": "markdown",
   "metadata": {},
   "source": [
    "### 4.1 Exploration of olist_customers_dataset"
   ]
  },
  {
   "cell_type": "markdown",
   "metadata": {},
   "source": [
    "#### 4.1.1 Summary Statistics"
   ]
  },
  {
   "cell_type": "code",
   "execution_count": 23,
   "metadata": {
    "scrolled": true
   },
   "outputs": [
    {
     "data": {
      "text/html": [
       "<div>\n",
       "<style scoped>\n",
       "    .dataframe tbody tr th:only-of-type {\n",
       "        vertical-align: middle;\n",
       "    }\n",
       "\n",
       "    .dataframe tbody tr th {\n",
       "        vertical-align: top;\n",
       "    }\n",
       "\n",
       "    .dataframe thead th {\n",
       "        text-align: right;\n",
       "    }\n",
       "</style>\n",
       "<table border=\"1\" class=\"dataframe\">\n",
       "  <thead>\n",
       "    <tr style=\"text-align: right;\">\n",
       "      <th></th>\n",
       "      <th>customer_id</th>\n",
       "      <th>customer_unique_id</th>\n",
       "      <th>customer_zip_code_prefix</th>\n",
       "      <th>customer_city</th>\n",
       "      <th>customer_state</th>\n",
       "    </tr>\n",
       "  </thead>\n",
       "  <tbody>\n",
       "    <tr>\n",
       "      <th>count</th>\n",
       "      <td>99441</td>\n",
       "      <td>99441</td>\n",
       "      <td>99441.000000</td>\n",
       "      <td>99441</td>\n",
       "      <td>99441</td>\n",
       "    </tr>\n",
       "    <tr>\n",
       "      <th>unique</th>\n",
       "      <td>99441</td>\n",
       "      <td>96096</td>\n",
       "      <td>NaN</td>\n",
       "      <td>4119</td>\n",
       "      <td>27</td>\n",
       "    </tr>\n",
       "    <tr>\n",
       "      <th>top</th>\n",
       "      <td>274fa6071e5e17fe303b9748641082c8</td>\n",
       "      <td>8d50f5eadf50201ccdcedfb9e2ac8455</td>\n",
       "      <td>NaN</td>\n",
       "      <td>sao paulo</td>\n",
       "      <td>SP</td>\n",
       "    </tr>\n",
       "    <tr>\n",
       "      <th>freq</th>\n",
       "      <td>1</td>\n",
       "      <td>17</td>\n",
       "      <td>NaN</td>\n",
       "      <td>15540</td>\n",
       "      <td>41746</td>\n",
       "    </tr>\n",
       "    <tr>\n",
       "      <th>mean</th>\n",
       "      <td>NaN</td>\n",
       "      <td>NaN</td>\n",
       "      <td>35137.474583</td>\n",
       "      <td>NaN</td>\n",
       "      <td>NaN</td>\n",
       "    </tr>\n",
       "    <tr>\n",
       "      <th>std</th>\n",
       "      <td>NaN</td>\n",
       "      <td>NaN</td>\n",
       "      <td>29797.938996</td>\n",
       "      <td>NaN</td>\n",
       "      <td>NaN</td>\n",
       "    </tr>\n",
       "    <tr>\n",
       "      <th>min</th>\n",
       "      <td>NaN</td>\n",
       "      <td>NaN</td>\n",
       "      <td>1003.000000</td>\n",
       "      <td>NaN</td>\n",
       "      <td>NaN</td>\n",
       "    </tr>\n",
       "    <tr>\n",
       "      <th>25%</th>\n",
       "      <td>NaN</td>\n",
       "      <td>NaN</td>\n",
       "      <td>11347.000000</td>\n",
       "      <td>NaN</td>\n",
       "      <td>NaN</td>\n",
       "    </tr>\n",
       "    <tr>\n",
       "      <th>50%</th>\n",
       "      <td>NaN</td>\n",
       "      <td>NaN</td>\n",
       "      <td>24416.000000</td>\n",
       "      <td>NaN</td>\n",
       "      <td>NaN</td>\n",
       "    </tr>\n",
       "    <tr>\n",
       "      <th>75%</th>\n",
       "      <td>NaN</td>\n",
       "      <td>NaN</td>\n",
       "      <td>58900.000000</td>\n",
       "      <td>NaN</td>\n",
       "      <td>NaN</td>\n",
       "    </tr>\n",
       "    <tr>\n",
       "      <th>max</th>\n",
       "      <td>NaN</td>\n",
       "      <td>NaN</td>\n",
       "      <td>99990.000000</td>\n",
       "      <td>NaN</td>\n",
       "      <td>NaN</td>\n",
       "    </tr>\n",
       "  </tbody>\n",
       "</table>\n",
       "</div>"
      ],
      "text/plain": [
       "                             customer_id                customer_unique_id  \\\n",
       "count                              99441                             99441   \n",
       "unique                             99441                             96096   \n",
       "top     274fa6071e5e17fe303b9748641082c8  8d50f5eadf50201ccdcedfb9e2ac8455   \n",
       "freq                                   1                                17   \n",
       "mean                                 NaN                               NaN   \n",
       "std                                  NaN                               NaN   \n",
       "min                                  NaN                               NaN   \n",
       "25%                                  NaN                               NaN   \n",
       "50%                                  NaN                               NaN   \n",
       "75%                                  NaN                               NaN   \n",
       "max                                  NaN                               NaN   \n",
       "\n",
       "        customer_zip_code_prefix customer_city customer_state  \n",
       "count               99441.000000         99441          99441  \n",
       "unique                       NaN          4119             27  \n",
       "top                          NaN     sao paulo             SP  \n",
       "freq                         NaN         15540          41746  \n",
       "mean                35137.474583           NaN            NaN  \n",
       "std                 29797.938996           NaN            NaN  \n",
       "min                  1003.000000           NaN            NaN  \n",
       "25%                 11347.000000           NaN            NaN  \n",
       "50%                 24416.000000           NaN            NaN  \n",
       "75%                 58900.000000           NaN            NaN  \n",
       "max                 99990.000000           NaN            NaN  "
      ]
     },
     "execution_count": 23,
     "metadata": {},
     "output_type": "execute_result"
    }
   ],
   "source": [
    "customers_df.describe(include=\"all\")"
   ]
  },
  {
   "cell_type": "markdown",
   "metadata": {},
   "source": [
    "#### 4.1.2 Customer Demographics by State and City"
   ]
  },
  {
   "cell_type": "code",
   "execution_count": 24,
   "metadata": {},
   "outputs": [
    {
     "data": {
      "text/plain": [
       "customer_state\n",
       "SP    40302\n",
       "RJ    12384\n",
       "MG    11259\n",
       "RS     5277\n",
       "PR     4882\n",
       "SC     3534\n",
       "BA     3277\n",
       "DF     2075\n",
       "ES     1964\n",
       "GO     1952\n",
       "PE     1609\n",
       "CE     1313\n",
       "PA      949\n",
       "MT      876\n",
       "MA      726\n",
       "MS      694\n",
       "PB      519\n",
       "PI      482\n",
       "RN      474\n",
       "AL      401\n",
       "SE      342\n",
       "TO      273\n",
       "RO      240\n",
       "AM      143\n",
       "AC       77\n",
       "AP       67\n",
       "RR       45\n",
       "Name: customer_unique_id, dtype: int64"
      ]
     },
     "execution_count": 24,
     "metadata": {},
     "output_type": "execute_result"
    }
   ],
   "source": [
    "customers_df.groupby(by=\"customer_state\").customer_unique_id.nunique().sort_values(ascending=False)"
   ]
  },
  {
   "cell_type": "markdown",
   "metadata": {},
   "source": [
    "### 4.2 Exploration of olist_orders_dataset"
   ]
  },
  {
   "cell_type": "markdown",
   "metadata": {},
   "source": [
    "#### 4.2.1 Analyzing Delivery Time"
   ]
  },
  {
   "cell_type": "code",
   "execution_count": 25,
   "metadata": {},
   "outputs": [
    {
     "name": "stdout",
     "output_type": "stream",
     "text": [
      "Average delivery time:  12.073115745247733 Day\n"
     ]
    }
   ],
   "source": [
    "orders_df['delivery_time_days'] = (orders_df['order_delivered_customer_date'] - orders_df['order_purchase_timestamp']).dt.days\n",
    "average_delivery_time = orders_df['delivery_time_days'].mean()\n",
    "\n",
    "print(\"Average delivery time: \", average_delivery_time, \"Day\")"
   ]
  },
  {
   "cell_type": "markdown",
   "metadata": {},
   "source": [
    "#### 4.2.2 Last Purchase Date"
   ]
  },
  {
   "cell_type": "code",
   "execution_count": 26,
   "metadata": {},
   "outputs": [
    {
     "name": "stdout",
     "output_type": "stream",
     "text": [
      "customer_id\n",
      "00012a2ce6f8dcda20d059ce98491703   2017-11-14 16:08:26\n",
      "000161a058600d5901f007fab4c27140   2017-07-16 09:40:32\n",
      "0001fd6190edaaf884bcaf3d49edf079   2017-02-28 11:06:43\n",
      "0002414f95344307404f0ace7a26f1d5   2017-08-16 13:09:20\n",
      "000379cdec625522490c315e70c7a9fb   2018-04-02 13:42:17\n",
      "                                           ...        \n",
      "fffcb937e9dd47a13f05ecb8290f4d3e   2018-03-17 00:55:27\n",
      "fffecc9f79fd8c764f843e9951b11341   2018-03-29 16:59:26\n",
      "fffeda5b6d849fbd39689bb92087f431   2018-05-22 13:36:02\n",
      "ffff42319e9b2d713724ae527742af25   2018-06-13 16:57:05\n",
      "ffffa3172527f765de70084a7e53aae8   2017-09-02 11:53:32\n",
      "Name: order_purchase_timestamp, Length: 97585, dtype: datetime64[ns]\n"
     ]
    }
   ],
   "source": [
    "last_purchase = orders_df.groupby('customer_id')['order_purchase_timestamp'].max()\n",
    "\n",
    "print(last_purchase)"
   ]
  },
  {
   "cell_type": "markdown",
   "metadata": {},
   "source": [
    "#### 4.2.3 Purchase Frequency for Specific Months"
   ]
  },
  {
   "cell_type": "code",
   "execution_count": 27,
   "metadata": {
    "scrolled": true
   },
   "outputs": [
    {
     "name": "stdout",
     "output_type": "stream",
     "text": [
      "Empty DataFrame\n",
      "Columns: [customer_id, purchase_count_q3_2018]\n",
      "Index: []\n"
     ]
    }
   ],
   "source": [
    "orders_df['order_purchase_month'] = orders_df['order_purchase_timestamp'].dt.to_period('M')\n",
    "q3_2018_orders = orders_df[orders_df['order_purchase_month'].isin(['2018-07', '2018-08', '2018-09'])]\n",
    "\n",
    "purchase_frequency_q3_2018 = q3_2018_orders.groupby('customer_id').agg({'order_id': 'count'}).reset_index()\n",
    "purchase_frequency_q3_2018.rename(columns={'order_id': 'purchase_count_q3_2018'}, inplace=True)\n",
    "\n",
    "# Display the result\n",
    "print(purchase_frequency_q3_2018)"
   ]
  },
  {
   "cell_type": "markdown",
   "metadata": {},
   "source": [
    "#### 4.3 Exploration of olist_order_items_dataset"
   ]
  },
  {
   "cell_type": "code",
   "execution_count": 28,
   "metadata": {},
   "outputs": [
    {
     "name": "stdout",
     "output_type": "stream",
     "text": [
      "average spending 2018:  136.85253772187963\n"
     ]
    }
   ],
   "source": [
    "# Calculating Average Expenditure\n",
    "orders_items_df = pd.merge(orders_df, order_items_df, on='order_id')\n",
    "orders_items_df['order_year'] = orders_items_df['order_purchase_timestamp'].dt.year\n",
    "average_spending_2018 = orders_items_df[orders_items_df['order_year'] == 2018].groupby('customer_id')['price'].sum().mean()\n",
    "\n",
    "print(\"average spending 2018: \", average_spending_2018)"
   ]
  },
  {
   "cell_type": "markdown",
   "metadata": {},
   "source": [
    "#### 4.3 Exploration of olist_order_payments_dataset"
   ]
  },
  {
   "cell_type": "code",
   "execution_count": 29,
   "metadata": {},
   "outputs": [
    {
     "data": {
      "text/plain": [
       "payment_type\n",
       "credit_card    76795\n",
       "boleto         19784\n",
       "voucher         5775\n",
       "debit_card      1529\n",
       "not_defined        3\n",
       "Name: count, dtype: int64"
      ]
     },
     "execution_count": 29,
     "metadata": {},
     "output_type": "execute_result"
    }
   ],
   "source": [
    "order_payments_df['payment_type'].value_counts()"
   ]
  },
  {
   "cell_type": "markdown",
   "metadata": {},
   "source": [
    "#### 4.4 Exploration of olist_order_reviews_dataset"
   ]
  },
  {
   "cell_type": "code",
   "execution_count": 30,
   "metadata": {},
   "outputs": [
    {
     "data": {
      "text/plain": [
       "review_score\n",
       "5    5422\n",
       "1    1789\n",
       "4    1433\n",
       "3     737\n",
       "2     458\n",
       "Name: count, dtype: int64"
      ]
     },
     "execution_count": 30,
     "metadata": {},
     "output_type": "execute_result"
    }
   ],
   "source": [
    "# Analyzing Review Scores\n",
    "order_reviews_df['review_score'].value_counts()"
   ]
  },
  {
   "cell_type": "markdown",
   "metadata": {},
   "source": [
    "#### 4.5 Exploration of olist_products_dataset"
   ]
  },
  {
   "cell_type": "code",
   "execution_count": 31,
   "metadata": {},
   "outputs": [
    {
     "data": {
      "text/html": [
       "<div>\n",
       "<style scoped>\n",
       "    .dataframe tbody tr th:only-of-type {\n",
       "        vertical-align: middle;\n",
       "    }\n",
       "\n",
       "    .dataframe tbody tr th {\n",
       "        vertical-align: top;\n",
       "    }\n",
       "\n",
       "    .dataframe thead th {\n",
       "        text-align: right;\n",
       "    }\n",
       "</style>\n",
       "<table border=\"1\" class=\"dataframe\">\n",
       "  <thead>\n",
       "    <tr style=\"text-align: right;\">\n",
       "      <th></th>\n",
       "      <th>product_weight_g</th>\n",
       "      <th>product_length_cm</th>\n",
       "      <th>product_height_cm</th>\n",
       "    </tr>\n",
       "  </thead>\n",
       "  <tbody>\n",
       "    <tr>\n",
       "      <th>count</th>\n",
       "      <td>32340.000000</td>\n",
       "      <td>32340.000000</td>\n",
       "      <td>32340.000000</td>\n",
       "    </tr>\n",
       "    <tr>\n",
       "      <th>mean</th>\n",
       "      <td>2276.956586</td>\n",
       "      <td>30.854545</td>\n",
       "      <td>16.958813</td>\n",
       "    </tr>\n",
       "    <tr>\n",
       "      <th>std</th>\n",
       "      <td>4279.291845</td>\n",
       "      <td>16.955965</td>\n",
       "      <td>13.636115</td>\n",
       "    </tr>\n",
       "    <tr>\n",
       "      <th>min</th>\n",
       "      <td>0.000000</td>\n",
       "      <td>7.000000</td>\n",
       "      <td>2.000000</td>\n",
       "    </tr>\n",
       "    <tr>\n",
       "      <th>25%</th>\n",
       "      <td>300.000000</td>\n",
       "      <td>18.000000</td>\n",
       "      <td>8.000000</td>\n",
       "    </tr>\n",
       "    <tr>\n",
       "      <th>50%</th>\n",
       "      <td>700.000000</td>\n",
       "      <td>25.000000</td>\n",
       "      <td>13.000000</td>\n",
       "    </tr>\n",
       "    <tr>\n",
       "      <th>75%</th>\n",
       "      <td>1900.000000</td>\n",
       "      <td>38.000000</td>\n",
       "      <td>21.000000</td>\n",
       "    </tr>\n",
       "    <tr>\n",
       "      <th>max</th>\n",
       "      <td>40425.000000</td>\n",
       "      <td>105.000000</td>\n",
       "      <td>105.000000</td>\n",
       "    </tr>\n",
       "  </tbody>\n",
       "</table>\n",
       "</div>"
      ],
      "text/plain": [
       "       product_weight_g  product_length_cm  product_height_cm\n",
       "count      32340.000000       32340.000000       32340.000000\n",
       "mean        2276.956586          30.854545          16.958813\n",
       "std         4279.291845          16.955965          13.636115\n",
       "min            0.000000           7.000000           2.000000\n",
       "25%          300.000000          18.000000           8.000000\n",
       "50%          700.000000          25.000000          13.000000\n",
       "75%         1900.000000          38.000000          21.000000\n",
       "max        40425.000000         105.000000         105.000000"
      ]
     },
     "execution_count": 31,
     "metadata": {},
     "output_type": "execute_result"
    }
   ],
   "source": [
    "# Product Dimensions and Categories\n",
    "products_df[['product_weight_g', 'product_length_cm', 'product_height_cm']].describe()"
   ]
  },
  {
   "cell_type": "markdown",
   "metadata": {},
   "source": [
    "#### 4.6 Combining orders_df and customers_df"
   ]
  },
  {
   "cell_type": "code",
   "execution_count": 32,
   "metadata": {},
   "outputs": [],
   "source": [
    "# Merging Orders and Customers Data\n",
    "orders_customers_df = pd.merge(orders_df, customers_df, on=\"customer_id\")"
   ]
  },
  {
   "cell_type": "code",
   "execution_count": 33,
   "metadata": {},
   "outputs": [
    {
     "name": "stdout",
     "output_type": "stream",
     "text": [
      "Customer Segmentation Based on Purchase Count in 2018:\n",
      "order_id\n",
      "Low          51052\n",
      "Medium        1095\n",
      "High            12\n",
      "Very High        0\n",
      "Name: count, dtype: int64\n",
      "\n",
      "Sample of Customer Segmentation Labels:\n",
      "customer_unique_id\n",
      "0000366f3b9a7992bf8c76cfdf3221e2    Low\n",
      "0000b849f77a49e4a4ce2b2a4ca5be3f    Low\n",
      "0004bd2a26a76fe21f786e4fbd80607f    Low\n",
      "00050ab1314c0e55a6ca13cf7181fecf    Low\n",
      "00053a61a98854899e70ed204dd4bafe    Low\n",
      "0005ef4cd20d2893f0d9fbd94d3c0d97    Low\n",
      "00090324bbad0e9342388303bb71ba0a    Low\n",
      "000949456b182f53c18b68d6babc79c1    Low\n",
      "000d460961d6dbfa3ec6c9f5805769e1    Low\n",
      "000e309254ab1fc5ba99dd469d36bdb4    Low\n",
      "Name: order_id, dtype: category\n",
      "Categories (4, object): ['Low' < 'Medium' < 'High' < 'Very High']\n"
     ]
    }
   ],
   "source": [
    "# Segmenting Customers Based on Purchase Count\n",
    "# Add the year of the order to the dataframe\n",
    "orders_customers_df['order_year'] = orders_customers_df['order_purchase_timestamp'].dt.year\n",
    "customer_purchase_count = orders_customers_df[orders_customers_df['order_year'] == 2018].groupby('customer_unique_id')['order_id'].count()\n",
    "\n",
    "customer_segment = pd.cut(customer_purchase_count, bins=[0, 1, 3, 10, float('inf')], labels=['Low', 'Medium', 'High', 'Very High'])\n",
    "segment_counts = customer_segment.value_counts().sort_index()\n",
    "\n",
    "# Display the segmentation results\n",
    "print(\"Customer Segmentation Based on Purchase Count in 2018:\")\n",
    "print(segment_counts)\n",
    "\n",
    "# display the segmentation for the first few customers\n",
    "print(\"\\nSample of Customer Segmentation Labels:\")\n",
    "print(customer_segment.head(10))"
   ]
  },
  {
   "cell_type": "markdown",
   "metadata": {},
   "source": [
    "#### 4.7 Exploration of olist_sellers_dataset"
   ]
  },
  {
   "cell_type": "code",
   "execution_count": 34,
   "metadata": {
    "scrolled": true
   },
   "outputs": [
    {
     "data": {
      "text/plain": [
       "seller_state\n",
       "SP    1849\n",
       "PR     349\n",
       "MG     244\n",
       "SC     190\n",
       "RJ     171\n",
       "RS     129\n",
       "GO      40\n",
       "DF      30\n",
       "ES      23\n",
       "BA      19\n",
       "CE      13\n",
       "PE       9\n",
       "PB       6\n",
       "MS       5\n",
       "RN       5\n",
       "MT       4\n",
       "RO       2\n",
       "SE       2\n",
       "AC       1\n",
       "PI       1\n",
       "MA       1\n",
       "AM       1\n",
       "PA       1\n",
       "Name: count, dtype: int64"
      ]
     },
     "execution_count": 34,
     "metadata": {},
     "output_type": "execute_result"
    }
   ],
   "source": [
    "# Seller Location Analysis\n",
    "sellers_df['seller_state'].value_counts()"
   ]
  },
  {
   "cell_type": "markdown",
   "metadata": {},
   "source": [
    "#### 4.8 Exploration of all_df\n",
    "Merging relevant dataset:\n",
    "- olist_customers_dataset: To understand customer demographics, locations, and purchase behaviors.\n",
    "- olist_orders_dataset: To analyze order statuses, timestamps, and delivery information.\n",
    "- olist_order_items_dataset: To understand product-related order details and expenditures.\n",
    "- olist_order_payments_dataset: To analyze payment types and expenditures."
   ]
  },
  {
   "cell_type": "code",
   "execution_count": 35,
   "metadata": {
    "scrolled": true
   },
   "outputs": [
    {
     "name": "stdout",
     "output_type": "stream",
     "text": [
      "                           order_id                       customer_id  \\\n",
      "0  e481f51cbdc54678b7cc49136f2d6af7  9ef432eb6251297304e76186b10a928d   \n",
      "1  e481f51cbdc54678b7cc49136f2d6af7  9ef432eb6251297304e76186b10a928d   \n",
      "2  e481f51cbdc54678b7cc49136f2d6af7  9ef432eb6251297304e76186b10a928d   \n",
      "3  53cdb2fc8bc7dce0b6741e2150273451  b0830fb4747a6c6d20dea0b8c802d7ef   \n",
      "4  47770eb9100c2d0c44946d9cf07ec65d  41ce2a54c0b03bf3443c3d931a367089   \n",
      "\n",
      "  order_status order_purchase_timestamp   order_approved_at  \\\n",
      "0    delivered      2017-10-02 10:56:33 2017-10-02 11:07:15   \n",
      "1    delivered      2017-10-02 10:56:33 2017-10-02 11:07:15   \n",
      "2    delivered      2017-10-02 10:56:33 2017-10-02 11:07:15   \n",
      "3    delivered      2018-07-24 20:41:37 2018-07-26 03:24:27   \n",
      "4    delivered      2018-08-08 08:38:49 2018-08-08 08:55:23   \n",
      "\n",
      "  order_delivered_carrier_date order_delivered_customer_date  \\\n",
      "0          2017-10-04 19:55:00           2017-10-10 21:25:13   \n",
      "1          2017-10-04 19:55:00           2017-10-10 21:25:13   \n",
      "2          2017-10-04 19:55:00           2017-10-10 21:25:13   \n",
      "3          2018-07-26 14:31:00           2018-08-07 15:27:45   \n",
      "4          2018-08-08 13:50:00           2018-08-17 18:06:29   \n",
      "\n",
      "  order_estimated_delivery_date  delivery_time_days order_purchase_month  ...  \\\n",
      "0                    2017-10-18                   8              2017-10  ...   \n",
      "1                    2017-10-18                   8              2017-10  ...   \n",
      "2                    2017-10-18                   8              2017-10  ...   \n",
      "3                    2018-08-13                  13              2018-07  ...   \n",
      "4                    2018-09-04                   9              2018-08  ...   \n",
      "\n",
      "  order_item_id                        product_id  \\\n",
      "0           1.0  87285b34884572647811a353c7ac498a   \n",
      "1           1.0  87285b34884572647811a353c7ac498a   \n",
      "2           1.0  87285b34884572647811a353c7ac498a   \n",
      "3           1.0  595fac2a385ac33a80bd5114aec74eb8   \n",
      "4           1.0  aa4383b373c6aca5d8797843e5594415   \n",
      "\n",
      "                          seller_id  shipping_limit_date   price  \\\n",
      "0  3504c0cb71d7fa48d967e0e4c94d59d9  2017-10-06 11:07:15   29.99   \n",
      "1  3504c0cb71d7fa48d967e0e4c94d59d9  2017-10-06 11:07:15   29.99   \n",
      "2  3504c0cb71d7fa48d967e0e4c94d59d9  2017-10-06 11:07:15   29.99   \n",
      "3  289cdb325fb7e7f891c38608bf9e0962  2018-07-30 03:24:27  118.70   \n",
      "4  4869f7a5dfa277a7dca6462dcf3b52b2  2018-08-13 08:55:23  159.90   \n",
      "\n",
      "  freight_value payment_sequential payment_type  payment_installments  \\\n",
      "0          8.72                1.0  credit_card                   1.0   \n",
      "1          8.72                3.0      voucher                   1.0   \n",
      "2          8.72                2.0      voucher                   1.0   \n",
      "3         22.76                1.0       boleto                   1.0   \n",
      "4         19.22                1.0  credit_card                   3.0   \n",
      "\n",
      "   payment_value  \n",
      "0          18.12  \n",
      "1           2.00  \n",
      "2          18.59  \n",
      "3         141.46  \n",
      "4         179.12  \n",
      "\n",
      "[5 rows x 24 columns]\n"
     ]
    }
   ],
   "source": [
    "# Merge olist_orders_dataset and olist_customers_dataset on 'customer_id'\n",
    "orders_customers_df = pd.merge(orders_df, customers_df, on='customer_id', how='left')\n",
    "\n",
    "# Merge the resulting DataFrame with olist_order_items_dataset on 'order_id'\n",
    "orders_customers_items_df = pd.merge(orders_customers_df, order_items_df, on='order_id', how='left')\n",
    "\n",
    "# Merge the resulting DataFrame with olist_order_payments_dataset on 'order_id'\n",
    "all_df = pd.merge(orders_customers_items_df, order_payments_df, on='order_id', how='left')\n",
    "\n",
    "# Display the first few rows of the consolidated DataFrame\n",
    "print(all_df.head())"
   ]
  },
  {
   "cell_type": "code",
   "execution_count": 36,
   "metadata": {
    "scrolled": true
   },
   "outputs": [
    {
     "data": {
      "text/html": [
       "<div>\n",
       "<style scoped>\n",
       "    .dataframe tbody tr th:only-of-type {\n",
       "        vertical-align: middle;\n",
       "    }\n",
       "\n",
       "    .dataframe tbody tr th {\n",
       "        vertical-align: top;\n",
       "    }\n",
       "\n",
       "    .dataframe thead th {\n",
       "        text-align: right;\n",
       "    }\n",
       "</style>\n",
       "<table border=\"1\" class=\"dataframe\">\n",
       "  <thead>\n",
       "    <tr style=\"text-align: right;\">\n",
       "      <th></th>\n",
       "      <th>order_purchase_timestamp</th>\n",
       "      <th>order_approved_at</th>\n",
       "      <th>order_delivered_carrier_date</th>\n",
       "      <th>order_delivered_customer_date</th>\n",
       "      <th>order_estimated_delivery_date</th>\n",
       "      <th>delivery_time_days</th>\n",
       "      <th>customer_zip_code_prefix</th>\n",
       "      <th>order_item_id</th>\n",
       "      <th>price</th>\n",
       "      <th>freight_value</th>\n",
       "      <th>payment_sequential</th>\n",
       "      <th>payment_installments</th>\n",
       "      <th>payment_value</th>\n",
       "    </tr>\n",
       "  </thead>\n",
       "  <tbody>\n",
       "    <tr>\n",
       "      <th>count</th>\n",
       "      <td>116283</td>\n",
       "      <td>116283</td>\n",
       "      <td>116283</td>\n",
       "      <td>116283</td>\n",
       "      <td>116283</td>\n",
       "      <td>116283.000000</td>\n",
       "      <td>116283.000000</td>\n",
       "      <td>116282.000000</td>\n",
       "      <td>116282.000000</td>\n",
       "      <td>116282.000000</td>\n",
       "      <td>116280.000000</td>\n",
       "      <td>116280.000000</td>\n",
       "      <td>116280.000000</td>\n",
       "    </tr>\n",
       "    <tr>\n",
       "      <th>mean</th>\n",
       "      <td>2017-12-31 10:51:31.758786816</td>\n",
       "      <td>2017-12-31 21:18:49.552204800</td>\n",
       "      <td>2018-01-03 17:49:06.823800832</td>\n",
       "      <td>2018-01-12 22:04:03.863883776</td>\n",
       "      <td>2018-01-24 07:07:27.387838464</td>\n",
       "      <td>12.001195</td>\n",
       "      <td>35102.791741</td>\n",
       "      <td>1.195232</td>\n",
       "      <td>120.218722</td>\n",
       "      <td>20.028973</td>\n",
       "      <td>1.093533</td>\n",
       "      <td>2.938158</td>\n",
       "      <td>171.769097</td>\n",
       "    </tr>\n",
       "    <tr>\n",
       "      <th>min</th>\n",
       "      <td>2016-09-04 21:15:19</td>\n",
       "      <td>2016-09-15 12:16:38</td>\n",
       "      <td>2016-10-08 10:34:01</td>\n",
       "      <td>2016-10-11 13:46:32</td>\n",
       "      <td>2016-10-04 00:00:00</td>\n",
       "      <td>0.000000</td>\n",
       "      <td>1003.000000</td>\n",
       "      <td>1.000000</td>\n",
       "      <td>0.850000</td>\n",
       "      <td>0.000000</td>\n",
       "      <td>1.000000</td>\n",
       "      <td>0.000000</td>\n",
       "      <td>0.000000</td>\n",
       "    </tr>\n",
       "    <tr>\n",
       "      <th>25%</th>\n",
       "      <td>2017-09-12 17:37:15</td>\n",
       "      <td>2017-09-13 03:24:53.500000</td>\n",
       "      <td>2017-09-14 21:47:50.500000</td>\n",
       "      <td>2017-09-22 21:22:14</td>\n",
       "      <td>2017-10-04 00:00:00</td>\n",
       "      <td>6.000000</td>\n",
       "      <td>11346.000000</td>\n",
       "      <td>1.000000</td>\n",
       "      <td>39.900000</td>\n",
       "      <td>13.080000</td>\n",
       "      <td>1.000000</td>\n",
       "      <td>1.000000</td>\n",
       "      <td>60.850000</td>\n",
       "    </tr>\n",
       "    <tr>\n",
       "      <th>50%</th>\n",
       "      <td>2018-01-19 08:45:56</td>\n",
       "      <td>2018-01-19 15:13:01</td>\n",
       "      <td>2018-01-23 19:58:50</td>\n",
       "      <td>2018-02-01 17:35:26</td>\n",
       "      <td>2018-02-15 00:00:00</td>\n",
       "      <td>10.000000</td>\n",
       "      <td>24342.000000</td>\n",
       "      <td>1.000000</td>\n",
       "      <td>74.900000</td>\n",
       "      <td>16.320000</td>\n",
       "      <td>1.000000</td>\n",
       "      <td>2.000000</td>\n",
       "      <td>108.110000</td>\n",
       "    </tr>\n",
       "    <tr>\n",
       "      <th>75%</th>\n",
       "      <td>2018-05-04 11:51:56.500000</td>\n",
       "      <td>2018-05-04 18:16:17.500000</td>\n",
       "      <td>2018-05-07 19:09:00</td>\n",
       "      <td>2018-05-15 12:14:50</td>\n",
       "      <td>2018-05-25 00:00:00</td>\n",
       "      <td>15.000000</td>\n",
       "      <td>58865.000000</td>\n",
       "      <td>1.000000</td>\n",
       "      <td>133.997500</td>\n",
       "      <td>21.190000</td>\n",
       "      <td>1.000000</td>\n",
       "      <td>4.000000</td>\n",
       "      <td>188.890000</td>\n",
       "    </tr>\n",
       "    <tr>\n",
       "      <th>max</th>\n",
       "      <td>2018-09-03 09:06:57</td>\n",
       "      <td>2018-09-03 17:40:06</td>\n",
       "      <td>2018-09-11 19:48:28</td>\n",
       "      <td>2018-10-17 13:22:46</td>\n",
       "      <td>2018-10-25 00:00:00</td>\n",
       "      <td>209.000000</td>\n",
       "      <td>99990.000000</td>\n",
       "      <td>21.000000</td>\n",
       "      <td>6735.000000</td>\n",
       "      <td>409.680000</td>\n",
       "      <td>29.000000</td>\n",
       "      <td>24.000000</td>\n",
       "      <td>13664.080000</td>\n",
       "    </tr>\n",
       "    <tr>\n",
       "      <th>std</th>\n",
       "      <td>NaN</td>\n",
       "      <td>NaN</td>\n",
       "      <td>NaN</td>\n",
       "      <td>NaN</td>\n",
       "      <td>NaN</td>\n",
       "      <td>9.423552</td>\n",
       "      <td>29825.821780</td>\n",
       "      <td>0.696960</td>\n",
       "      <td>183.038285</td>\n",
       "      <td>15.791818</td>\n",
       "      <td>0.727697</td>\n",
       "      <td>2.772621</td>\n",
       "      <td>265.497499</td>\n",
       "    </tr>\n",
       "  </tbody>\n",
       "</table>\n",
       "</div>"
      ],
      "text/plain": [
       "            order_purchase_timestamp              order_approved_at  \\\n",
       "count                         116283                         116283   \n",
       "mean   2017-12-31 10:51:31.758786816  2017-12-31 21:18:49.552204800   \n",
       "min              2016-09-04 21:15:19            2016-09-15 12:16:38   \n",
       "25%              2017-09-12 17:37:15     2017-09-13 03:24:53.500000   \n",
       "50%              2018-01-19 08:45:56            2018-01-19 15:13:01   \n",
       "75%       2018-05-04 11:51:56.500000     2018-05-04 18:16:17.500000   \n",
       "max              2018-09-03 09:06:57            2018-09-03 17:40:06   \n",
       "std                              NaN                            NaN   \n",
       "\n",
       "        order_delivered_carrier_date  order_delivered_customer_date  \\\n",
       "count                         116283                         116283   \n",
       "mean   2018-01-03 17:49:06.823800832  2018-01-12 22:04:03.863883776   \n",
       "min              2016-10-08 10:34:01            2016-10-11 13:46:32   \n",
       "25%       2017-09-14 21:47:50.500000            2017-09-22 21:22:14   \n",
       "50%              2018-01-23 19:58:50            2018-02-01 17:35:26   \n",
       "75%              2018-05-07 19:09:00            2018-05-15 12:14:50   \n",
       "max              2018-09-11 19:48:28            2018-10-17 13:22:46   \n",
       "std                              NaN                            NaN   \n",
       "\n",
       "       order_estimated_delivery_date  delivery_time_days  \\\n",
       "count                         116283       116283.000000   \n",
       "mean   2018-01-24 07:07:27.387838464           12.001195   \n",
       "min              2016-10-04 00:00:00            0.000000   \n",
       "25%              2017-10-04 00:00:00            6.000000   \n",
       "50%              2018-02-15 00:00:00           10.000000   \n",
       "75%              2018-05-25 00:00:00           15.000000   \n",
       "max              2018-10-25 00:00:00          209.000000   \n",
       "std                              NaN            9.423552   \n",
       "\n",
       "       customer_zip_code_prefix  order_item_id          price  freight_value  \\\n",
       "count             116283.000000  116282.000000  116282.000000  116282.000000   \n",
       "mean               35102.791741       1.195232     120.218722      20.028973   \n",
       "min                 1003.000000       1.000000       0.850000       0.000000   \n",
       "25%                11346.000000       1.000000      39.900000      13.080000   \n",
       "50%                24342.000000       1.000000      74.900000      16.320000   \n",
       "75%                58865.000000       1.000000     133.997500      21.190000   \n",
       "max                99990.000000      21.000000    6735.000000     409.680000   \n",
       "std                29825.821780       0.696960     183.038285      15.791818   \n",
       "\n",
       "       payment_sequential  payment_installments  payment_value  \n",
       "count       116280.000000         116280.000000  116280.000000  \n",
       "mean             1.093533              2.938158     171.769097  \n",
       "min              1.000000              0.000000       0.000000  \n",
       "25%              1.000000              1.000000      60.850000  \n",
       "50%              1.000000              2.000000     108.110000  \n",
       "75%              1.000000              4.000000     188.890000  \n",
       "max             29.000000             24.000000   13664.080000  \n",
       "std              0.727697              2.772621     265.497499  "
      ]
     },
     "execution_count": 36,
     "metadata": {},
     "output_type": "execute_result"
    }
   ],
   "source": [
    "all_df.describe()"
   ]
  },
  {
   "cell_type": "code",
   "execution_count": 37,
   "metadata": {},
   "outputs": [
    {
     "name": "stdout",
     "output_type": "stream",
     "text": [
      "\u001b[1mJumlah duplikasi:\u001b[0m 0\n"
     ]
    }
   ],
   "source": [
    "duplicates_count = all_df.duplicated().sum()\n",
    "print(\"\\033[1mJumlah duplikasi:\\033[0m\", duplicates_count)"
   ]
  },
  {
   "cell_type": "code",
   "execution_count": 38,
   "metadata": {
    "scrolled": true
   },
   "outputs": [
    {
     "name": "stdout",
     "output_type": "stream",
     "text": [
      "order_id                         0\n",
      "customer_id                      0\n",
      "order_status                     0\n",
      "order_purchase_timestamp         0\n",
      "order_approved_at                0\n",
      "order_delivered_carrier_date     0\n",
      "order_delivered_customer_date    0\n",
      "order_estimated_delivery_date    0\n",
      "delivery_time_days               0\n",
      "order_purchase_month             0\n",
      "customer_unique_id               0\n",
      "customer_zip_code_prefix         0\n",
      "customer_city                    0\n",
      "customer_state                   0\n",
      "order_item_id                    1\n",
      "product_id                       1\n",
      "seller_id                        1\n",
      "shipping_limit_date              1\n",
      "price                            1\n",
      "freight_value                    1\n",
      "payment_sequential               3\n",
      "payment_type                     3\n",
      "payment_installments             3\n",
      "payment_value                    3\n",
      "dtype: int64\n"
     ]
    }
   ],
   "source": [
    "missing_values = all_df.isna().sum()\n",
    "print(missing_values)"
   ]
  },
  {
   "cell_type": "code",
   "execution_count": 39,
   "metadata": {},
   "outputs": [
    {
     "name": "stdout",
     "output_type": "stream",
     "text": [
      "order_id                         0\n",
      "customer_id                      0\n",
      "order_status                     0\n",
      "order_purchase_timestamp         0\n",
      "order_approved_at                0\n",
      "order_delivered_carrier_date     0\n",
      "order_delivered_customer_date    0\n",
      "order_estimated_delivery_date    0\n",
      "delivery_time_days               0\n",
      "order_purchase_month             0\n",
      "customer_unique_id               0\n",
      "customer_zip_code_prefix         0\n",
      "customer_city                    0\n",
      "customer_state                   0\n",
      "order_item_id                    0\n",
      "product_id                       0\n",
      "seller_id                        0\n",
      "shipping_limit_date              0\n",
      "price                            0\n",
      "freight_value                    0\n",
      "payment_sequential               0\n",
      "payment_type                     0\n",
      "payment_installments             0\n",
      "payment_value                    0\n",
      "dtype: int64\n"
     ]
    }
   ],
   "source": [
    "# Drop rows with any NaN values directly\n",
    "all_df.dropna(inplace=True)\n",
    "print(all_df.isna().sum())"
   ]
  },
  {
   "cell_type": "code",
   "execution_count": 40,
   "metadata": {},
   "outputs": [
    {
     "data": {
      "text/html": [
       "<div>\n",
       "<style scoped>\n",
       "    .dataframe tbody tr th:only-of-type {\n",
       "        vertical-align: middle;\n",
       "    }\n",
       "\n",
       "    .dataframe tbody tr th {\n",
       "        vertical-align: top;\n",
       "    }\n",
       "\n",
       "    .dataframe thead th {\n",
       "        text-align: right;\n",
       "    }\n",
       "</style>\n",
       "<table border=\"1\" class=\"dataframe\">\n",
       "  <thead>\n",
       "    <tr style=\"text-align: right;\">\n",
       "      <th></th>\n",
       "      <th>order_purchase_timestamp</th>\n",
       "      <th>order_approved_at</th>\n",
       "      <th>order_delivered_carrier_date</th>\n",
       "      <th>order_delivered_customer_date</th>\n",
       "      <th>order_estimated_delivery_date</th>\n",
       "      <th>delivery_time_days</th>\n",
       "      <th>customer_zip_code_prefix</th>\n",
       "      <th>order_item_id</th>\n",
       "      <th>price</th>\n",
       "      <th>freight_value</th>\n",
       "      <th>payment_sequential</th>\n",
       "      <th>payment_installments</th>\n",
       "      <th>payment_value</th>\n",
       "    </tr>\n",
       "  </thead>\n",
       "  <tbody>\n",
       "    <tr>\n",
       "      <th>count</th>\n",
       "      <td>116279</td>\n",
       "      <td>116279</td>\n",
       "      <td>116279</td>\n",
       "      <td>116279</td>\n",
       "      <td>116279</td>\n",
       "      <td>116279.000000</td>\n",
       "      <td>116279.000000</td>\n",
       "      <td>116279.000000</td>\n",
       "      <td>116279.000000</td>\n",
       "      <td>116279.000000</td>\n",
       "      <td>116279.000000</td>\n",
       "      <td>116279.000000</td>\n",
       "      <td>116279.000000</td>\n",
       "    </tr>\n",
       "    <tr>\n",
       "      <th>mean</th>\n",
       "      <td>2017-12-31 11:14:39.907232</td>\n",
       "      <td>2017-12-31 21:41:57.466120448</td>\n",
       "      <td>2018-01-03 18:10:01.170598400</td>\n",
       "      <td>2018-01-12 22:25:16.700290048</td>\n",
       "      <td>2018-01-24 07:30:22.894934016</td>\n",
       "      <td>11.999871</td>\n",
       "      <td>35102.837847</td>\n",
       "      <td>1.195212</td>\n",
       "      <td>120.220663</td>\n",
       "      <td>20.029417</td>\n",
       "      <td>1.093534</td>\n",
       "      <td>2.938175</td>\n",
       "      <td>171.769906</td>\n",
       "    </tr>\n",
       "    <tr>\n",
       "      <th>min</th>\n",
       "      <td>2016-09-04 21:15:19</td>\n",
       "      <td>2016-10-04 09:43:32</td>\n",
       "      <td>2016-10-08 10:34:01</td>\n",
       "      <td>2016-10-11 13:46:32</td>\n",
       "      <td>2016-10-20 00:00:00</td>\n",
       "      <td>0.000000</td>\n",
       "      <td>1003.000000</td>\n",
       "      <td>1.000000</td>\n",
       "      <td>0.850000</td>\n",
       "      <td>0.000000</td>\n",
       "      <td>1.000000</td>\n",
       "      <td>0.000000</td>\n",
       "      <td>0.000000</td>\n",
       "    </tr>\n",
       "    <tr>\n",
       "      <th>25%</th>\n",
       "      <td>2017-09-12 17:47:51</td>\n",
       "      <td>2017-09-13 03:24:57.500000</td>\n",
       "      <td>2017-09-14 21:49:45</td>\n",
       "      <td>2017-09-22 21:25:24</td>\n",
       "      <td>2017-10-04 00:00:00</td>\n",
       "      <td>6.000000</td>\n",
       "      <td>11345.500000</td>\n",
       "      <td>1.000000</td>\n",
       "      <td>39.900000</td>\n",
       "      <td>13.080000</td>\n",
       "      <td>1.000000</td>\n",
       "      <td>1.000000</td>\n",
       "      <td>60.850000</td>\n",
       "    </tr>\n",
       "    <tr>\n",
       "      <th>50%</th>\n",
       "      <td>2018-01-19 08:58:05</td>\n",
       "      <td>2018-01-19 15:17:30</td>\n",
       "      <td>2018-01-23 19:59:11</td>\n",
       "      <td>2018-02-01 17:35:42</td>\n",
       "      <td>2018-02-15 00:00:00</td>\n",
       "      <td>10.000000</td>\n",
       "      <td>24342.000000</td>\n",
       "      <td>1.000000</td>\n",
       "      <td>74.900000</td>\n",
       "      <td>16.320000</td>\n",
       "      <td>1.000000</td>\n",
       "      <td>2.000000</td>\n",
       "      <td>108.110000</td>\n",
       "    </tr>\n",
       "    <tr>\n",
       "      <th>75%</th>\n",
       "      <td>2018-05-04 11:52:17.500000</td>\n",
       "      <td>2018-05-04 18:16:20.500000</td>\n",
       "      <td>2018-05-07 19:10:00</td>\n",
       "      <td>2018-05-15 12:14:50</td>\n",
       "      <td>2018-05-25 00:00:00</td>\n",
       "      <td>15.000000</td>\n",
       "      <td>58865.000000</td>\n",
       "      <td>1.000000</td>\n",
       "      <td>134.000000</td>\n",
       "      <td>21.190000</td>\n",
       "      <td>1.000000</td>\n",
       "      <td>4.000000</td>\n",
       "      <td>188.890000</td>\n",
       "    </tr>\n",
       "    <tr>\n",
       "      <th>max</th>\n",
       "      <td>2018-09-03 09:06:57</td>\n",
       "      <td>2018-09-03 17:40:06</td>\n",
       "      <td>2018-09-11 19:48:28</td>\n",
       "      <td>2018-10-17 13:22:46</td>\n",
       "      <td>2018-10-25 00:00:00</td>\n",
       "      <td>209.000000</td>\n",
       "      <td>99990.000000</td>\n",
       "      <td>21.000000</td>\n",
       "      <td>6735.000000</td>\n",
       "      <td>409.680000</td>\n",
       "      <td>29.000000</td>\n",
       "      <td>24.000000</td>\n",
       "      <td>13664.080000</td>\n",
       "    </tr>\n",
       "    <tr>\n",
       "      <th>std</th>\n",
       "      <td>NaN</td>\n",
       "      <td>NaN</td>\n",
       "      <td>NaN</td>\n",
       "      <td>NaN</td>\n",
       "      <td>NaN</td>\n",
       "      <td>9.420941</td>\n",
       "      <td>29825.698472</td>\n",
       "      <td>0.696944</td>\n",
       "      <td>183.040248</td>\n",
       "      <td>15.791780</td>\n",
       "      <td>0.727700</td>\n",
       "      <td>2.772627</td>\n",
       "      <td>265.498497</td>\n",
       "    </tr>\n",
       "  </tbody>\n",
       "</table>\n",
       "</div>"
      ],
      "text/plain": [
       "         order_purchase_timestamp              order_approved_at  \\\n",
       "count                      116279                         116279   \n",
       "mean   2017-12-31 11:14:39.907232  2017-12-31 21:41:57.466120448   \n",
       "min           2016-09-04 21:15:19            2016-10-04 09:43:32   \n",
       "25%           2017-09-12 17:47:51     2017-09-13 03:24:57.500000   \n",
       "50%           2018-01-19 08:58:05            2018-01-19 15:17:30   \n",
       "75%    2018-05-04 11:52:17.500000     2018-05-04 18:16:20.500000   \n",
       "max           2018-09-03 09:06:57            2018-09-03 17:40:06   \n",
       "std                           NaN                            NaN   \n",
       "\n",
       "        order_delivered_carrier_date  order_delivered_customer_date  \\\n",
       "count                         116279                         116279   \n",
       "mean   2018-01-03 18:10:01.170598400  2018-01-12 22:25:16.700290048   \n",
       "min              2016-10-08 10:34:01            2016-10-11 13:46:32   \n",
       "25%              2017-09-14 21:49:45            2017-09-22 21:25:24   \n",
       "50%              2018-01-23 19:59:11            2018-02-01 17:35:42   \n",
       "75%              2018-05-07 19:10:00            2018-05-15 12:14:50   \n",
       "max              2018-09-11 19:48:28            2018-10-17 13:22:46   \n",
       "std                              NaN                            NaN   \n",
       "\n",
       "       order_estimated_delivery_date  delivery_time_days  \\\n",
       "count                         116279       116279.000000   \n",
       "mean   2018-01-24 07:30:22.894934016           11.999871   \n",
       "min              2016-10-20 00:00:00            0.000000   \n",
       "25%              2017-10-04 00:00:00            6.000000   \n",
       "50%              2018-02-15 00:00:00           10.000000   \n",
       "75%              2018-05-25 00:00:00           15.000000   \n",
       "max              2018-10-25 00:00:00          209.000000   \n",
       "std                              NaN            9.420941   \n",
       "\n",
       "       customer_zip_code_prefix  order_item_id          price  freight_value  \\\n",
       "count             116279.000000  116279.000000  116279.000000  116279.000000   \n",
       "mean               35102.837847       1.195212     120.220663      20.029417   \n",
       "min                 1003.000000       1.000000       0.850000       0.000000   \n",
       "25%                11345.500000       1.000000      39.900000      13.080000   \n",
       "50%                24342.000000       1.000000      74.900000      16.320000   \n",
       "75%                58865.000000       1.000000     134.000000      21.190000   \n",
       "max                99990.000000      21.000000    6735.000000     409.680000   \n",
       "std                29825.698472       0.696944     183.040248      15.791780   \n",
       "\n",
       "       payment_sequential  payment_installments  payment_value  \n",
       "count       116279.000000         116279.000000  116279.000000  \n",
       "mean             1.093534              2.938175     171.769906  \n",
       "min              1.000000              0.000000       0.000000  \n",
       "25%              1.000000              1.000000      60.850000  \n",
       "50%              1.000000              2.000000     108.110000  \n",
       "75%              1.000000              4.000000     188.890000  \n",
       "max             29.000000             24.000000   13664.080000  \n",
       "std              0.727700              2.772627     265.498497  "
      ]
     },
     "execution_count": 40,
     "metadata": {},
     "output_type": "execute_result"
    }
   ],
   "source": [
    "all_df.describe()"
   ]
  },
  {
   "cell_type": "markdown",
   "metadata": {},
   "source": [
    "**Insight:**\n",
    "The EDA performed on individual datasets and the consolidated all_df provides several valuable insights into customer behavior, sales performance, and regional trends.\n",
    "- olist_customers_dataset allowed us to understand customer distribution across Brazil.\n",
    "- olist_orders_dataset helped us analyze order details, purchase frequency, and delivery times.\n",
    "- olist_order_items_dataset provided details on the products sold, including their prices and freight costs.\n",
    "- olist_order_payments_dataset showed customer preferences for payment types and installment options.\n",
    "\n",
    "The resulting all_df gives a holistic view of the interactions between customers, orders, products, and payments, making it a powerful dataset for answering key business questions about delivery performance, customer activity, regional purchasing habits, and customer segmentation."
   ]
  },
  {
   "cell_type": "markdown",
   "metadata": {
    "id": "zsyZjqak8DC2"
   },
   "source": [
    "## 5. Visualization & Explanatory Analysis"
   ]
  },
  {
   "cell_type": "markdown",
   "metadata": {
    "id": "HZxOiQ6n8DC2"
   },
   "source": [
    "### Question 1: What is the Average Delivery Time for Products Across Brazil?"
   ]
  },
  {
   "cell_type": "code",
   "execution_count": 41,
   "metadata": {
    "id": "1swJUdAD8DC2"
   },
   "outputs": [
    {
     "data": {
      "image/png": "[encoded data removed]",
      "text/plain": [
       "<Figure size 1000x600 with 1 Axes>"
      ]
     },
     "metadata": {},
     "output_type": "display_data"
    }
   ],
   "source": [
    "plt.figure(figsize=(10, 6))\n",
    "plt.hist(all_df['delivery_time_days'].dropna(), bins=20, edgecolor='black')\n",
    "plt.xlabel('Delivery Time (Days)')\n",
    "plt.ylabel('Number of Orders')\n",
    "plt.title('Distribution of Delivery Time Across Brazil')\n",
    "plt.show()"
   ]
  },
  {
   "cell_type": "markdown",
   "metadata": {
    "id": "DgHI7CiU8DC2"
   },
   "source": [
    "### Question 2: When Was the Last Purchase Made by Customers in the Past Year?"
   ]
  },
  {
   "cell_type": "code",
   "execution_count": 42,
   "metadata": {
    "id": "Go0lCsvO8DC2"
   },
   "outputs": [
    {
     "data": {
      "image/png": "[encoded data removed]",
      "text/plain": [
       "<Figure size 1200x600 with 1 Axes>"
      ]
     },
     "metadata": {},
     "output_type": "display_data"
    }
   ],
   "source": [
    "last_year_orders = all_df[all_df['order_purchase_timestamp'].dt.year == 2018]\n",
    "monthly_orders = last_year_orders.groupby(last_year_orders['order_purchase_timestamp'].dt.to_period('M')).size()\n",
    "\n",
    "plt.figure(figsize=(12, 6))\n",
    "monthly_orders.plot(kind='line', marker='o')\n",
    "plt.xlabel('Month')\n",
    "plt.ylabel('Number of Purchases')\n",
    "plt.title('Monthly Purchases in the Year 2018')\n",
    "plt.grid()\n",
    "plt.show()"
   ]
  },
  {
   "cell_type": "markdown",
   "metadata": {
    "id": "DgHI7CiU8DC2"
   },
   "source": [
    "### Question 3: How Frequently Did Customers Purchase Products in July, August, and September 2018?"
   ]
  },
  {
   "cell_type": "code",
   "execution_count": 43,
   "metadata": {},
   "outputs": [
    {
     "name": "stdout",
     "output_type": "stream",
     "text": [
      "Available months in the data: <PeriodArray>\n",
      "['2017-10', '2018-07', '2018-08', '2017-11', '2018-02', '2017-07', '2017-05',\n",
      " '2017-01', '2018-06', '2018-03', '2018-01', '2017-12', '2017-09', '2018-05',\n",
      " '2017-08', '2018-04', '2017-03', '2017-06', '2017-02', '2017-04', '2016-10',\n",
      " '2016-09', '2016-12', '2018-09']\n",
      "Length: 24, dtype: period[M]\n"
     ]
    }
   ],
   "source": [
    "unique_months = all_df['order_purchase_month'].unique()\n",
    "print(\"Available months in the data:\", unique_months)\n"
   ]
  },
  {
   "cell_type": "code",
   "execution_count": 44,
   "metadata": {
    "scrolled": true
   },
   "outputs": [
    {
     "name": "stdout",
     "output_type": "stream",
     "text": [
      "Number of purchases in July, August, and September 2018: 0\n",
      "Empty DataFrame\n",
      "Columns: [customer_id, order_purchase_timestamp]\n",
      "Index: []\n"
     ]
    }
   ],
   "source": [
    "# Convert 'order_purchase_timestamp' to datetime (if not already done)\n",
    "all_df['order_purchase_timestamp'] = pd.to_datetime(all_df['order_purchase_timestamp'], errors='coerce')\n",
    "\n",
    "# Convert 'order_purchase_timestamp' to a monthly period\n",
    "all_df['order_purchase_month'] = all_df['order_purchase_timestamp'].dt.to_period('M')\n",
    "\n",
    "# Filter for orders in July, August, and September 2018 using the period format\n",
    "q3_2018_orders = all_df[all_df['order_purchase_month'].isin(['2018-07', '2018-08', '2018-09'])]\n",
    "\n",
    "# Ensure the filtered data is correct\n",
    "print(f\"Number of purchases in July, August, and September 2018: {len(q3_2018_orders)}\")\n",
    "print(q3_2018_orders[['customer_id', 'order_purchase_timestamp']].head())\n"
   ]
  },
  {
   "cell_type": "code",
   "execution_count": 45,
   "metadata": {},
   "outputs": [
    {
     "name": "stdout",
     "output_type": "stream",
     "text": [
      "Unique order months in data: <PeriodArray>\n",
      "['2017-10', '2018-07', '2018-08', '2017-11', '2018-02', '2017-07', '2017-05',\n",
      " '2017-01', '2018-06', '2018-03', '2018-01', '2017-12', '2017-09', '2018-05',\n",
      " '2017-08', '2018-04', '2017-03', '2017-06', '2017-02', '2017-04', '2016-10',\n",
      " '2016-09', '2016-12', '2018-09']\n",
      "Length: 24, dtype: period[M]\n",
      "Number of orders in 2018: 63180\n",
      "Orders in July 2018: 7262\n",
      "Orders in August 2018: 7404\n",
      "Orders in September 2018: 1\n"
     ]
    }
   ],
   "source": [
    "# Display unique years and months in the data to cross-check\n",
    "unique_periods = all_df['order_purchase_month'].unique()\n",
    "print(f\"Unique order months in data: {unique_periods}\")\n",
    "\n",
    "# Try filtering in a more granular way for just the year 2018\n",
    "orders_2018 = all_df[all_df['order_purchase_timestamp'].dt.year == 2018]\n",
    "print(f\"Number of orders in 2018: {len(orders_2018)}\")\n",
    "\n",
    "# Check specific counts for July, August, and September\n",
    "orders_july_2018 = orders_2018[orders_2018['order_purchase_timestamp'].dt.month == 7]\n",
    "orders_august_2018 = orders_2018[orders_2018['order_purchase_timestamp'].dt.month == 8]\n",
    "orders_september_2018 = orders_2018[orders_2018['order_purchase_timestamp'].dt.month == 9]\n",
    "\n",
    "print(f\"Orders in July 2018: {len(orders_july_2018)}\")\n",
    "print(f\"Orders in August 2018: {len(orders_august_2018)}\")\n",
    "print(f\"Orders in September 2018: {len(orders_september_2018)}\")"
   ]
  },
  {
   "cell_type": "code",
   "execution_count": 46,
   "metadata": {},
   "outputs": [
    {
     "data": {
      "image/png": "[encoded data removed]",
      "text/plain": [
       "<Figure size 1000x600 with 1 Axes>"
      ]
     },
     "metadata": {},
     "output_type": "display_data"
    }
   ],
   "source": [
    "# Combine the filtered data for July, August, and September 2018\n",
    "combined_q3_2018_orders = pd.concat([orders_july_2018, orders_august_2018, orders_september_2018])\n",
    "\n",
    "# Plot the number of purchases per month\n",
    "monthly_orders = combined_q3_2018_orders['order_purchase_month'].value_counts().sort_index()\n",
    "\n",
    "plt.figure(figsize=(10, 6))\n",
    "monthly_orders.plot(kind='bar', color='skyblue')\n",
    "plt.xlabel('Month')\n",
    "plt.ylabel('Number of Purchases')\n",
    "plt.title('Number of Purchases in Q3 2018 (July, August, September)')\n",
    "plt.xticks(rotation=45)\n",
    "plt.grid(axis='y')\n",
    "plt.show()"
   ]
  },
  {
   "cell_type": "markdown",
   "metadata": {},
   "source": [
    "### Question 4: What Was the Average Expenditure Per Customer During the Year 2018?"
   ]
  },
  {
   "cell_type": "code",
   "execution_count": 47,
   "metadata": {},
   "outputs": [
    {
     "data": {
      "image/png": "[encoded data removed]",
      "text/plain": [
       "<Figure size 800x600 with 1 Axes>"
      ]
     },
     "metadata": {},
     "output_type": "display_data"
    }
   ],
   "source": [
    "expenditure_2018 = all_df[all_df['order_purchase_timestamp'].dt.year == 2018].groupby('customer_unique_id')['price'].sum()\n",
    "\n",
    "plt.figure(figsize=(8, 6))\n",
    "plt.boxplot(expenditure_2018, vert=False)\n",
    "plt.xlabel('Total Expenditure (BRL)')\n",
    "plt.title('Distribution of Customer Expenditure in 2018')\n",
    "plt.show()"
   ]
  },
  {
   "cell_type": "markdown",
   "metadata": {},
   "source": [
    "### Question 5: Which Regions Have the Highest Number of Purchases?"
   ]
  },
  {
   "cell_type": "code",
   "execution_count": 48,
   "metadata": {},
   "outputs": [
    {
     "name": "stdout",
     "output_type": "stream",
     "text": [
      "Requirement already satisfied: geopandas in c:\\users\\rayas\\anaconda3\\envs\\main-becp\\lib\\site-packages (1.0.1)\n",
      "Requirement already satisfied: numpy>=1.22 in c:\\users\\rayas\\anaconda3\\envs\\main-becp\\lib\\site-packages (from geopandas) (2.1.1)\n",
      "Requirement already satisfied: pyogrio>=0.7.2 in c:\\users\\rayas\\anaconda3\\envs\\main-becp\\lib\\site-packages (from geopandas) (0.10.0)\n",
      "Requirement already satisfied: packaging in c:\\users\\rayas\\anaconda3\\envs\\main-becp\\lib\\site-packages (from geopandas) (24.1)\n",
      "Requirement already satisfied: pandas>=1.4.0 in c:\\users\\rayas\\anaconda3\\envs\\main-becp\\lib\\site-packages (from geopandas) (2.2.3)\n",
      "Requirement already satisfied: pyproj>=3.3.0 in c:\\users\\rayas\\anaconda3\\envs\\main-becp\\lib\\site-packages (from geopandas) (3.6.1)\n",
      "Requirement already satisfied: shapely>=2.0.0 in c:\\users\\rayas\\anaconda3\\envs\\main-becp\\lib\\site-packages (from geopandas) (2.0.6)\n",
      "Requirement already satisfied: python-dateutil>=2.8.2 in c:\\users\\rayas\\anaconda3\\envs\\main-becp\\lib\\site-packages (from pandas>=1.4.0->geopandas) (2.9.0.post0)\n",
      "Requirement already satisfied: pytz>=2020.1 in c:\\users\\rayas\\anaconda3\\envs\\main-becp\\lib\\site-packages (from pandas>=1.4.0->geopandas) (2024.2)\n",
      "Requirement already satisfied: tzdata>=2022.7 in c:\\users\\rayas\\anaconda3\\envs\\main-becp\\lib\\site-packages (from pandas>=1.4.0->geopandas) (2024.2)\n",
      "Requirement already satisfied: certifi in c:\\users\\rayas\\anaconda3\\envs\\main-becp\\lib\\site-packages (from pyogrio>=0.7.2->geopandas) (2024.8.30)\n",
      "Requirement already satisfied: six>=1.5 in c:\\users\\rayas\\anaconda3\\envs\\main-becp\\lib\\site-packages (from python-dateutil>=2.8.2->pandas>=1.4.0->geopandas) (1.16.0)\n"
     ]
    },
    {
     "name": "stderr",
     "output_type": "stream",
     "text": [
      "C:\\Users\\rayas\\AppData\\Local\\Temp\\ipykernel_29440\\779694030.py:11: FutureWarning: \n",
      "\n",
      "Passing `palette` without assigning `hue` is deprecated and will be removed in v0.14.0. Assign the `x` variable to `hue` and set `legend=False` for the same effect.\n",
      "\n",
      "  sns.barplot(data=state_purchases, x='state', y='total_purchases', palette='viridis')\n"
     ]
    },
    {
     "data": {
      "image/png": "[encoded data removed]",
      "text/plain": [
       "<Figure size 640x480 with 1 Axes>"
      ]
     },
     "metadata": {},
     "output_type": "display_data"
    }
   ],
   "source": [
    "import geopandas as gpd\n",
    "import seaborn as sns\n",
    "\n",
    "# Aggregate the number of purchases by state\n",
    "state_purchases = all_df.groupby('customer_state')['order_id'].count().reset_index()\n",
    "state_purchases.columns = ['state', 'total_purchases']\n",
    "\n",
    "# Load shapefile of Brazil (geopandas needed)\n",
    "# Plot using geodataframe, merging state_purchases\n",
    "sns.barplot(data=state_purchases, x='state', y='total_purchases', palette='viridis')\n",
    "plt.xlabel('State')\n",
    "plt.ylabel('Number of Purchases')\n",
    "plt.title('Number of Purchases by State in Brazil')\n",
    "plt.xticks(rotation=90)\n",
    "plt.show()"
   ]
  },
  {
   "cell_type": "markdown",
   "metadata": {},
   "source": [
    "### Question 6: How Can Olist Customers Be Segmented Based on the Number of Purchases in a Year?"
   ]
  },
  {
   "cell_type": "code",
   "execution_count": 49,
   "metadata": {},
   "outputs": [
    {
     "data": {
      "image/png": "[encoded data removed]",
      "text/plain": [
       "<Figure size 1000x600 with 1 Axes>"
      ]
     },
     "metadata": {},
     "output_type": "display_data"
    }
   ],
   "source": [
    "segment_counts.plot(kind='bar', figsize=(10, 6), color='skyblue')\n",
    "plt.xlabel('Customer Segment')\n",
    "plt.ylabel('Number of Customers')\n",
    "plt.title('Customer Segmentation Based on Purchase Frequency in 2018')\n",
    "plt.show()"
   ]
  },
  {
   "cell_type": "markdown",
   "metadata": {
    "id": "_WeHlCeX8DC2"
   },
   "source": [
    "## Conclusion"
   ]
  },
  {
   "cell_type": "markdown",
   "metadata": {
    "id": "ZTcyR48Y8DC2"
   },
   "source": [
    "- Conclution pertanyaan 1\n",
    "- Conclution pertanyaan 2"
   ]
  },
  {
   "cell_type": "code",
   "execution_count": null,
   "metadata": {},
   "outputs": [],
   "source": []
  }
 ],
 "metadata": {
  "colab": {
   "include_colab_link": true,
   "provenance": []
  },
  "kernelspec": {
   "display_name": "Python 3 (ipykernel)",
   "language": "python",
   "name": "python3"
  },
  "language_info": {
   "codemirror_mode": {
    "name": "ipython",
    "version": 3
   },
   "file_extension": ".py",
   "mimetype": "text/x-python",
   "name": "python",
   "nbconvert_exporter": "python",
   "pygments_lexer": "ipython3",
   "version": "3.10.14"
  },
  "vscode": {
   "interpreter": {
    "hash": "972b3bf27e332e87b5379f2791f6ef9dfc79c71018c370b0d7423235e20fe4d7"
   }
  }
 },
 "nbformat": 4,
 "nbformat_minor": 4
}
